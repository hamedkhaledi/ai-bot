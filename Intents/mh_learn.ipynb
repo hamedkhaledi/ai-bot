{
 "cells": [
  {
   "cell_type": "code",
   "execution_count": 7,
   "metadata": {
    "ExecuteTime": {
     "end_time": "2020-12-25T08:46:24.872206Z",
     "start_time": "2020-12-25T08:46:21.016036Z"
    }
   },
   "outputs": [],
   "source": [
    "import numpy as np\n",
    "import pandas as pd\n",
    "from rule_based import total_score\n",
    "from tensorflow.keras.models import Sequential\n",
    "from tensorflow.keras.layers import Embedding, Conv1D, MaxPooling1D, Flatten, Dense"
   ]
  },
  {
   "cell_type": "code",
   "execution_count": 8,
   "metadata": {},
   "outputs": [],
   "source": [
    "import warnings\n",
    "warnings.filterwarnings(\"ignore\")"
   ]
  },
  {
   "cell_type": "code",
   "execution_count": 9,
   "metadata": {
    "ExecuteTime": {
     "end_time": "2020-12-25T08:46:25.928831Z",
     "start_time": "2020-12-25T08:46:25.923314Z"
    }
   },
   "outputs": [],
   "source": [
    "mapping = {0: \"weather\", \n",
    "           1: \"religious time\", \n",
    "           2: \"time\", \n",
    "           3: \"date\", \n",
    "           4: \"unknown\"}"
   ]
  },
  {
   "cell_type": "code",
   "execution_count": 10,
   "metadata": {
    "ExecuteTime": {
     "end_time": "2020-12-25T08:46:26.534811Z",
     "start_time": "2020-12-25T08:46:26.495065Z"
    }
   },
   "outputs": [],
   "source": [
    "df = pd.read_csv(\"mh_clean.csv\", index_col=0)\n",
    "df;"
   ]
  },
  {
   "cell_type": "code",
   "execution_count": 32,
   "metadata": {},
   "outputs": [],
   "source": [
    "def train_model (): \n",
    "    model = Sequential()\n",
    "    model.add(Embedding(vocab_size, 100, input_length=maxlen))\n",
    "    model.add(Conv1D(filters=32, kernel_size=16, activation='relu'))\n",
    "    model.add(MaxPooling1D(pool_size=2))\n",
    "    model.add(Flatten())\n",
    "    # model.add(Dense(10, activation='relu'))\n",
    "    model.add(Dense(10, activation='relu'))\n",
    "    model.add(Dense(5, activation='sigmoid'))\n",
    "    # print(model.summary())\n",
    "    model.compile(loss='sparse_categorical_crossentropy', optimizer='adam', metrics=['accuracy'])\n",
    "    summary = model.fit(Xtrain, y_train, epochs=15, verbose=0)\n",
    "    eval_summary = model.evaluate(Xtest, y_test, verbose=0)\n",
    "    \n",
    "    return model, eval_summary"
   ]
  },
  {
   "cell_type": "code",
   "execution_count": 33,
   "metadata": {
    "ExecuteTime": {
     "end_time": "2020-12-25T08:46:32.021840Z",
     "start_time": "2020-12-25T08:46:32.014568Z"
    }
   },
   "outputs": [],
   "source": [
    "from sklearn.model_selection import train_test_split\n",
    "\n",
    "x = df[\"sentence\"].values\n",
    "y = df[\"class\"].values\n",
    "x_train, x_test, y_train, y_test = train_test_split(x, y, test_size=0.25, random_state = 42)"
   ]
  },
  {
   "cell_type": "code",
   "execution_count": 34,
   "metadata": {
    "ExecuteTime": {
     "end_time": "2020-12-25T08:46:37.576369Z",
     "start_time": "2020-12-25T08:46:32.323934Z"
    }
   },
   "outputs": [],
   "source": [
    "from keras.preprocessing.text import Tokenizer\n",
    "\n",
    "tokenizer = Tokenizer()\n",
    "tokenizer.fit_on_texts(x)"
   ]
  },
  {
   "cell_type": "code",
   "execution_count": 35,
   "metadata": {
    "ExecuteTime": {
     "end_time": "2020-12-25T08:46:37.590687Z",
     "start_time": "2020-12-25T08:46:37.580245Z"
    }
   },
   "outputs": [],
   "source": [
    "maxlen = max([len(s.split()) for s in x])"
   ]
  },
  {
   "cell_type": "code",
   "execution_count": 36,
   "metadata": {
    "ExecuteTime": {
     "end_time": "2020-12-25T08:46:37.618720Z",
     "start_time": "2020-12-25T08:46:37.594308Z"
    }
   },
   "outputs": [],
   "source": [
    "from tensorflow.keras.preprocessing.sequence import pad_sequences\n",
    "\n",
    "enc_docs = tokenizer.texts_to_sequences(x_train)\n",
    "Xtrain = pad_sequences(enc_docs, maxlen=maxlen, padding='post')"
   ]
  },
  {
   "cell_type": "code",
   "execution_count": 37,
   "metadata": {
    "ExecuteTime": {
     "end_time": "2020-12-25T08:46:37.636412Z",
     "start_time": "2020-12-25T08:46:37.622240Z"
    }
   },
   "outputs": [],
   "source": [
    "enc_docs = tokenizer.texts_to_sequences(x_test)\n",
    "Xtest = pad_sequences(enc_docs, maxlen=maxlen, padding='post')"
   ]
  },
  {
   "cell_type": "code",
   "execution_count": 38,
   "metadata": {
    "ExecuteTime": {
     "end_time": "2020-12-25T08:46:37.645692Z",
     "start_time": "2020-12-25T08:46:37.640803Z"
    }
   },
   "outputs": [],
   "source": [
    "vocab_size = len(tokenizer.word_index) + 1"
   ]
  },
  {
   "cell_type": "code",
   "execution_count": 39,
   "metadata": {
    "ExecuteTime": {
     "end_time": "2020-12-25T08:55:25.926710Z",
     "start_time": "2020-12-25T08:55:25.835797Z"
    }
   },
   "outputs": [],
   "source": [
    "model, eval_summary = train_model()"
   ]
  },
  {
   "cell_type": "code",
   "execution_count": 40,
   "metadata": {
    "ExecuteTime": {
     "end_time": "2020-12-25T08:55:30.486702Z",
     "start_time": "2020-12-25T08:55:26.163444Z"
    },
    "scrolled": true
   },
   "outputs": [
    {
     "data": {
      "text/plain": [
       "[0.711432695388794, 0.8201754093170166]"
      ]
     },
     "execution_count": 40,
     "metadata": {},
     "output_type": "execute_result"
    }
   ],
   "source": [
    "eval_summary"
   ]
  },
  {
   "cell_type": "code",
   "execution_count": 47,
   "metadata": {
    "ExecuteTime": {
     "end_time": "2020-12-25T09:27:25.528570Z",
     "start_time": "2020-12-25T09:27:25.515658Z"
    }
   },
   "outputs": [],
   "source": [
    "def predict(sent: str) -> int:\n",
    "    enc_docs = tokenizer.texts_to_sequences(np.array([sent]))\n",
    "    s = pad_sequences(enc_docs, maxlen=maxlen, padding='post')\n",
    "    pred = model.predict(s)\n",
    "    ind = np.argpartition(pred, -2)[-2:].flatten().tolist()\n",
    "    ind.reverse()\n",
    "    \n",
    "    print(f\"The first predicted class: {mapping[ind[0]]}\")\n",
    "    print(f\"The second predicted class: {mapping[ind[1]]}\")\n",
    "    \n",
    "    sc = total_score(sent)\n",
    "    sc[4] = 0\n",
    "    print(sc)\n",
    "    \n",
    "    if sc[ind[0]] >= 2 and sc[ind[1]] <= 2:\n",
    "        return mapping[ind[0]]\n",
    "    elif abs(sc[ind[0]] - sc[ind[1]]) <= 2:\n",
    "        return mapping[ind[0]]  # CHECK THIS PLEASE\n",
    "    elif ind[0] == 4 and max(list(sc.values())) <= 2 and sc[ind[1]] != 2:\n",
    "        return 'unknown'\n",
    "    # HANDLE NN BEING RIGHT AND RULE-BASED BEING WRONG\n",
    "    else:\n",
    "        return mapping[ind[0]]"
   ]
  },
  {
   "cell_type": "code",
   "execution_count": 48,
   "metadata": {},
   "outputs": [],
   "source": [
    "def save_model () : \n",
    "    ## saving model\n",
    "    model.save('.')"
   ]
  },
  {
   "cell_type": "code",
   "execution_count": 49,
   "metadata": {
    "ExecuteTime": {
     "end_time": "2020-12-25T09:27:25.756454Z",
     "start_time": "2020-12-25T09:27:25.747971Z"
    }
   },
   "outputs": [],
   "source": [
    "sent = 'فردا هوا چحوریه'"
   ]
  },
  {
   "cell_type": "code",
   "execution_count": 50,
   "metadata": {
    "ExecuteTime": {
     "end_time": "2020-12-25T09:27:25.983012Z",
     "start_time": "2020-12-25T09:27:25.896379Z"
    }
   },
   "outputs": [
    {
     "name": "stdout",
     "output_type": "stream",
     "text": [
      "[3, 2, 1, 4, 0]\n",
      "The first predicted class: weather\n",
      "The second predicted class: unknown\n",
      "{0: 2, 1: 0, 2: 0, 3: 2, 4: 0}\n"
     ]
    }
   ],
   "source": [
    "res = predict(sent)"
   ]
  },
  {
   "cell_type": "code",
   "execution_count": 100,
   "metadata": {
    "ExecuteTime": {
     "end_time": "2020-12-24T16:18:01.271926Z",
     "start_time": "2020-12-24T16:18:01.240501Z"
    }
   },
   "outputs": [],
   "source": [
    "from sklearn.feature_extraction.text import CountVectorizer\n",
    "\n",
    "vec = CountVectorizer()\n",
    "vec.fit(x_train)\n",
    "x_train = vec.transform(x_train)\n",
    "x_test = vec.transform(x_test)"
   ]
  },
  {
   "cell_type": "code",
   "execution_count": 101,
   "metadata": {
    "ExecuteTime": {
     "end_time": "2020-12-24T16:18:04.872002Z",
     "start_time": "2020-12-24T16:18:01.961561Z"
    },
    "scrolled": true
   },
   "outputs": [],
   "source": [
    "from tensorflow.keras.models import Sequential\n",
    "from tensorflow.keras.layers import Dense\n",
    "from tensorflow.keras.optimizers import Adam\n",
    "\n",
    "model = Sequential()\n",
    "model.add(Dense(64, input_dim=x_train.shape[1], activation='relu'))\n",
    "model.add(Dense(64, activation='relu'))\n",
    "model.add(Dense(32, activation='relu'))\n",
    "model.add(Dense(16, activation='relu'))\n",
    "model.add(Dense(5, activation='sigmoid'))\n",
    "model.compile(loss=\"sparse_categorical_crossentropy\",\n",
    "              optimizer='adam', metrics=['accuracy'])\n",
    "summary2 = model.fit(x_train, y_train, batch_size=16, epochs=15, verbose= 0 )"
   ]
  },
  {
   "cell_type": "code",
   "execution_count": 102,
   "metadata": {
    "ExecuteTime": {
     "end_time": "2020-12-24T16:18:05.503148Z",
     "start_time": "2020-12-24T16:18:05.293120Z"
    }
   },
   "outputs": [],
   "source": [
    "score = model.evaluate(x_test, y_test, verbose=0)"
   ]
  },
  {
   "cell_type": "code",
   "execution_count": 103,
   "metadata": {
    "ExecuteTime": {
     "end_time": "2020-12-24T16:18:40.893182Z",
     "start_time": "2020-12-24T16:18:40.885318Z"
    }
   },
   "outputs": [],
   "source": [
    "from sklearn.feature_extraction.text import CountVectorizer\n",
    "\n",
    "sent = np.array([\"امروز چه مناسبی داریم؟\"])\n",
    "vec = CountVectorizer()\n",
    "vec.fit(sent)\n",
    "sent = vec.transform(sent)"
   ]
  },
  {
   "cell_type": "code",
   "execution_count": 104,
   "metadata": {
    "ExecuteTime": {
     "end_time": "2020-12-24T16:18:41.338266Z",
     "start_time": "2020-12-24T16:18:41.331147Z"
    }
   },
   "outputs": [],
   "source": [
    "sent;"
   ]
  },
  {
   "cell_type": "code",
   "execution_count": 106,
   "metadata": {
    "ExecuteTime": {
     "end_time": "2020-12-24T16:19:24.817301Z",
     "start_time": "2020-12-24T16:19:24.776236Z"
    }
   },
   "outputs": [],
   "source": [
    "model.predict(x_test);"
   ]
  },
  {
   "cell_type": "code",
   "execution_count": 107,
   "metadata": {
    "ExecuteTime": {
     "end_time": "2020-12-24T15:58:16.470415Z",
     "start_time": "2020-12-24T15:58:16.462302Z"
    }
   },
   "outputs": [],
   "source": [
    "from sklearn.model_selection import train_test_split\n",
    "\n",
    "x = df[\"sentence\"].values\n",
    "y = df[\"class\"].values\n",
    "x_train, x_test, y_train, y_test = train_test_split(x, y, test_size=0.33, random_state = 42)"
   ]
  },
  {
   "cell_type": "code",
   "execution_count": 108,
   "metadata": {
    "ExecuteTime": {
     "end_time": "2020-12-24T15:58:16.637770Z",
     "start_time": "2020-12-24T15:58:16.608276Z"
    }
   },
   "outputs": [],
   "source": [
    "from sklearn.feature_extraction.text import TfidfVectorizer\n",
    "\n",
    "vec = TfidfVectorizer()\n",
    "vec.fit(x_train)\n",
    "x_train = vec.transform(x_train)\n",
    "x_test = vec.transform(x_test)"
   ]
  },
  {
   "cell_type": "code",
   "execution_count": 109,
   "metadata": {
    "ExecuteTime": {
     "end_time": "2020-12-24T15:58:16.857491Z",
     "start_time": "2020-12-24T15:58:16.759646Z"
    }
   },
   "outputs": [
    {
     "data": {
      "text/plain": [
       "0.85"
      ]
     },
     "execution_count": 109,
     "metadata": {},
     "output_type": "execute_result"
    }
   ],
   "source": [
    "from sklearn.linear_model import LogisticRegression\n",
    "from sklearn.metrics import accuracy_score\n",
    "\n",
    "lr = LogisticRegression()\n",
    "lr.fit(x_train, y_train)\n",
    "accuracy_score(y_test, lr.predict(x_test))"
   ]
  },
  {
   "cell_type": "code",
   "execution_count": null,
   "metadata": {},
   "outputs": [],
   "source": []
  }
 ],
 "metadata": {
  "kernelspec": {
   "display_name": "Python 3",
   "language": "python",
   "name": "python3"
  },
  "language_info": {
   "codemirror_mode": {
    "name": "ipython",
    "version": 3
   },
   "file_extension": ".py",
   "mimetype": "text/x-python",
   "name": "python",
   "nbconvert_exporter": "python",
   "pygments_lexer": "ipython3",
   "version": "3.8.5"
  }
 },
 "nbformat": 4,
 "nbformat_minor": 4
}
