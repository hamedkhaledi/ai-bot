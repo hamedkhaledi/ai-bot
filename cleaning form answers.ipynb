{
 "cells": [
  {
   "cell_type": "code",
   "execution_count": 10,
   "metadata": {
    "ExecuteTime": {
     "end_time": "2020-12-24T15:45:58.614239Z",
     "start_time": "2020-12-24T15:45:58.608645Z"
    },
    "id": "JZs781CHBEge"
   },
   "outputs": [],
   "source": [
    "import numpy as np\n",
    "import pandas as pd\n",
    "from hazm import *\n",
    "from typing import Tuple"
   ]
  },
  {
   "cell_type": "markdown",
   "metadata": {
    "id": "6LXPdRujBEgp"
   },
   "source": [
    "## cleaning data"
   ]
  },
  {
   "cell_type": "code",
   "execution_count": 11,
   "metadata": {
    "ExecuteTime": {
     "end_time": "2020-12-24T15:45:58.990075Z",
     "start_time": "2020-12-24T15:45:58.958173Z"
    },
    "id": "W89a_GcbBEgq"
   },
   "outputs": [
    {
     "data": {
      "text/html": [
       "<div>\n",
       "<style scoped>\n",
       "    .dataframe tbody tr th:only-of-type {\n",
       "        vertical-align: middle;\n",
       "    }\n",
       "\n",
       "    .dataframe tbody tr th {\n",
       "        vertical-align: top;\n",
       "    }\n",
       "\n",
       "    .dataframe thead th {\n",
       "        text-align: right;\n",
       "    }\n",
       "</style>\n",
       "<table border=\"1\" class=\"dataframe\">\n",
       "  <thead>\n",
       "    <tr style=\"text-align: right;\">\n",
       "      <th></th>\n",
       "      <th>Class1-Q</th>\n",
       "      <th>Class1-W</th>\n",
       "      <th>Class2-Q</th>\n",
       "      <th>Class2-W</th>\n",
       "      <th>Class3-Q</th>\n",
       "      <th>Class3-W</th>\n",
       "      <th>Class4-Q</th>\n",
       "      <th>Class4-W</th>\n",
       "    </tr>\n",
       "  </thead>\n",
       "  <tbody>\n",
       "    <tr>\n",
       "      <th>0</th>\n",
       "      <td>آیا فردا هوا ابری است؟</td>\n",
       "      <td>آیا - هوا - فردا - ابری</td>\n",
       "      <td>چه زمانی اذان مغرب شروع می‌شود؟</td>\n",
       "      <td>زمان - اذان - مغرب</td>\n",
       "      <td>ساعت چنده؟</td>\n",
       "      <td>ساعت</td>\n",
       "      <td>میلاد پیامبر چه زمانی است؟</td>\n",
       "      <td>میلاد - پیامبر - زمان</td>\n",
       "    </tr>\n",
       "    <tr>\n",
       "      <th>1</th>\n",
       "      <td>هوا فردا آلودست ؟\\nشاخص آلودگی چنده؟\\nیعنی فرد...</td>\n",
       "      <td>برف - بارون - آلودگی - فردا - هواشناسی</td>\n",
       "      <td>اذان کیه؟\\nطلوع آفتاب ساعت چنده؟\\nاذان ظهرو گف...</td>\n",
       "      <td>اذان- غروب- افطار-طلوع-ظهر</td>\n",
       "      <td>الان تو مونیخ ساعت چنده؟\\nاختلاف زمانیمون با ا...</td>\n",
       "      <td>شب - روز - ساعت - اختلاف زمانی - الان</td>\n",
       "      <td>امروز چندمه؟\\nچند روز مونده تا عید؟\\nوقت دکترت...</td>\n",
       "      <td>چند شنبه-تعطیلی-روز-چندمه؟-وقت</td>\n",
       "    </tr>\n",
       "    <tr>\n",
       "      <th>2</th>\n",
       "      <td>شب است.</td>\n",
       "      <td>شب</td>\n",
       "      <td>قبل از شب میباشد</td>\n",
       "      <td>قبل - شب</td>\n",
       "      <td>الان ۲۳ و ۲۳ دقیقه است.</td>\n",
       "      <td>۲۳ - ۲۳</td>\n",
       "      <td>چهارشنبه ۸ آذر</td>\n",
       "      <td>۴ - ۸ - ۹</td>\n",
       "    </tr>\n",
       "    <tr>\n",
       "      <th>3</th>\n",
       "      <td>آلودگی هوای تهران به چه علت است؟\\nهوای نسبی ای...</td>\n",
       "      <td>هوا - تهران - ایران - دما - باران</td>\n",
       "      <td>اذان صبح چه ساعتی‌ست؟\\nاختلاف زمانی اذان ظهر ش...</td>\n",
       "      <td>اذان - صبح - ظهر - تهران - مشهد - اختلاف</td>\n",
       "      <td>اختلاف زمانی ساعت ایران و ترکیه چقدر است؟\\nامر...</td>\n",
       "      <td>اختلاف - ایران - ترکیه - امروز - سال - ۱۴۰۰</td>\n",
       "      <td>تاریخ وفات امام خمینی(ره) چه روزی است؟\\nتاریخ ...</td>\n",
       "      <td>وفات - خمینی - تاریخ - شاه - خامنه‌ای - رهبر -...</td>\n",
       "    </tr>\n",
       "    <tr>\n",
       "      <th>4</th>\n",
       "      <td>آیا فردا هوا ابریست؟\\nآیا فردا باران میبارد؟!\\...</td>\n",
       "      <td>هوا-هواشناسی- امروز- فردا - باران-  ابر</td>\n",
       "      <td>NaN</td>\n",
       "      <td>NaN</td>\n",
       "      <td>چند ساعت تا غروب مانده ؟!\\nتهران چند ساعت با ک...</td>\n",
       "      <td>الان- زمان- ساعت</td>\n",
       "      <td>امروز چندم ماه است؟\\nاین ماه چند روز دارد؟\\nتا...</td>\n",
       "      <td>ماه- چندم- تاریخ</td>\n",
       "    </tr>\n",
       "  </tbody>\n",
       "</table>\n",
       "</div>"
      ],
      "text/plain": [
       "                                            Class1-Q  \\\n",
       "0                             آیا فردا هوا ابری است؟   \n",
       "1  هوا فردا آلودست ؟\\nشاخص آلودگی چنده؟\\nیعنی فرد...   \n",
       "2                                            شب است.   \n",
       "3  آلودگی هوای تهران به چه علت است؟\\nهوای نسبی ای...   \n",
       "4  آیا فردا هوا ابریست؟\\nآیا فردا باران میبارد؟!\\...   \n",
       "\n",
       "                                  Class1-W  \\\n",
       "0                  آیا - هوا - فردا - ابری   \n",
       "1   برف - بارون - آلودگی - فردا - هواشناسی   \n",
       "2                                       شب   \n",
       "3        هوا - تهران - ایران - دما - باران   \n",
       "4  هوا-هواشناسی- امروز- فردا - باران-  ابر   \n",
       "\n",
       "                                            Class2-Q  \\\n",
       "0                    چه زمانی اذان مغرب شروع می‌شود؟   \n",
       "1  اذان کیه؟\\nطلوع آفتاب ساعت چنده؟\\nاذان ظهرو گف...   \n",
       "2                                   قبل از شب میباشد   \n",
       "3  اذان صبح چه ساعتی‌ست؟\\nاختلاف زمانی اذان ظهر ش...   \n",
       "4                                                NaN   \n",
       "\n",
       "                                   Class2-W  \\\n",
       "0                        زمان - اذان - مغرب   \n",
       "1                اذان- غروب- افطار-طلوع-ظهر   \n",
       "2                                  قبل - شب   \n",
       "3  اذان - صبح - ظهر - تهران - مشهد - اختلاف   \n",
       "4                                       NaN   \n",
       "\n",
       "                                            Class3-Q  \\\n",
       "0                                         ساعت چنده؟   \n",
       "1  الان تو مونیخ ساعت چنده؟\\nاختلاف زمانیمون با ا...   \n",
       "2                            الان ۲۳ و ۲۳ دقیقه است.   \n",
       "3  اختلاف زمانی ساعت ایران و ترکیه چقدر است؟\\nامر...   \n",
       "4  چند ساعت تا غروب مانده ؟!\\nتهران چند ساعت با ک...   \n",
       "\n",
       "                                      Class3-W  \\\n",
       "0                                         ساعت   \n",
       "1       شب - روز - ساعت - اختلاف زمانی - الان    \n",
       "2                                      ۲۳ - ۲۳   \n",
       "3  اختلاف - ایران - ترکیه - امروز - سال - ۱۴۰۰   \n",
       "4                             الان- زمان- ساعت   \n",
       "\n",
       "                                            Class4-Q  \\\n",
       "0                         میلاد پیامبر چه زمانی است؟   \n",
       "1  امروز چندمه؟\\nچند روز مونده تا عید؟\\nوقت دکترت...   \n",
       "2                                     چهارشنبه ۸ آذر   \n",
       "3  تاریخ وفات امام خمینی(ره) چه روزی است؟\\nتاریخ ...   \n",
       "4  امروز چندم ماه است؟\\nاین ماه چند روز دارد؟\\nتا...   \n",
       "\n",
       "                                            Class4-W  \n",
       "0                              میلاد - پیامبر - زمان  \n",
       "1                     چند شنبه-تعطیلی-روز-چندمه؟-وقت  \n",
       "2                                          ۴ - ۸ - ۹  \n",
       "3  وفات - خمینی - تاریخ - شاه - خامنه‌ای - رهبر -...  \n",
       "4                                   ماه- چندم- تاریخ  "
      ]
     },
     "execution_count": 11,
     "metadata": {},
     "output_type": "execute_result"
    }
   ],
   "source": [
    "df = pd.read_csv('base_responses.csv')\n",
    "df.head()"
   ]
  },
  {
   "cell_type": "code",
   "execution_count": 12,
   "metadata": {
    "ExecuteTime": {
     "end_time": "2020-12-24T15:46:00.507569Z",
     "start_time": "2020-12-24T15:46:00.501322Z"
    }
   },
   "outputs": [],
   "source": [
    "splitters = ['-', '_', '\\n', '//', '/', 'ـ', '?', '؟']\n",
    "unused_chars = ['🤤', 'ء', '(', ')', '-', '!', '.',\n",
    "                '،', '_', '\\n', '//', '/', 'ـ', '?', '؟']"
   ]
  },
  {
   "cell_type": "code",
   "execution_count": 13,
   "metadata": {
    "ExecuteTime": {
     "end_time": "2020-12-24T15:46:00.702320Z",
     "start_time": "2020-12-24T15:46:00.697564Z"
    }
   },
   "outputs": [],
   "source": [
    "norm = Normalizer()"
   ]
  },
  {
   "cell_type": "code",
   "execution_count": 14,
   "metadata": {
    "ExecuteTime": {
     "end_time": "2020-12-24T15:46:00.907666Z",
     "start_time": "2020-12-24T15:46:00.898192Z"
    },
    "scrolled": true
   },
   "outputs": [],
   "source": [
    "def clear_class(w: pd.Series) -> list:\n",
    "    # Clears the sentenses in each class\n",
    "    w = w.dropna()\n",
    "    for c in splitters:\n",
    "        w = w.str.replace(c, \"%\", regex=True)\n",
    "    w = w.str.split(\"%\")\n",
    "    w = np.concatenate(w.to_numpy()).ravel()\n",
    "    w = np.array([norm.normalize(s) for s in w])\n",
    "    for c in unused_chars:\n",
    "        w = np.array([s.replace(c, '').strip() for s in w])\n",
    "    w = w[w != '']\n",
    "    w = w[w != ' ']\n",
    "    w = w[w != '\\u200c']\n",
    "    return w.tolist()\n",
    "\n",
    "\n",
    "# passes this test:\n",
    "# full = ' '.join(w)\n",
    "# ' '.join(set(full)), len(' '.join(set(full)).split())"
   ]
  },
  {
   "cell_type": "code",
   "execution_count": 15,
   "metadata": {
    "ExecuteTime": {
     "end_time": "2020-12-24T15:46:01.693476Z",
     "start_time": "2020-12-24T15:46:01.550014Z"
    }
   },
   "outputs": [],
   "source": [
    "w = clear_class(df[\"Class1-Q\"])\n",
    "rt = clear_class(df[\"Class2-Q\"])\n",
    "t = clear_class(df[\"Class3-Q\"])\n",
    "d = clear_class(df[\"Class4-Q\"])"
   ]
  },
  {
   "cell_type": "code",
   "execution_count": 16,
   "metadata": {
    "ExecuteTime": {
     "end_time": "2020-12-24T15:46:02.828597Z",
     "start_time": "2020-12-24T15:46:02.810938Z"
    }
   },
   "outputs": [],
   "source": [
    "def remove_sents(sents: list, c: int) -> Tuple[list, list]:\n",
    "    # Clears the non-relevant sentences\n",
    "    idx_rm = []\n",
    "\n",
    "    if c == 1:\n",
    "        idx_rm = [6, 19, 21, 16, 18, 23, 35, 38, 43, 44, 46, 47, 58, 62, 70, 71,\n",
    "                  81, 97, 126, 135, 136, 139, 151, 160, 164, 178, 225, 240, 241, 263]\n",
    "    elif c == 2:\n",
    "        idx_rm = [6, 12, 20, 28, 40, 45, 46, 47, 49, 50, 56,\n",
    "                  76, 114, 120, 119, 144, 148, 151, 156, 173, 174]\n",
    "    elif c == 3:\n",
    "        idx_rm = [12, 16, 19, 20, 21, 22, 26, 30, 33, 34,\n",
    "                  36, 37, 40, 41, 42, 43, 46, 47, 57, 77,\n",
    "                  79, 88, 89, 96, 99, 100, 102, 101, 104,\n",
    "                  103, 107, 111, 112, 113, 115, 116, 117, 118,\n",
    "                  150, 155, 156, 168, 173, 174, 175, 176, 187,\n",
    "                  191, 208]\n",
    "    elif c == 4:\n",
    "        idx_rm = [3, 16, 6, 20, 25, 30, 43, 42, 55, 88, 89, 90,\n",
    "                  104, 105, 127, 132, 176, 193, 215]\n",
    "\n",
    "    sents_rm = [sents[i] for i in idx_rm]\n",
    "    sents_needed = [sents[i] for i in range(len(sents)) if i not in idx_rm]\n",
    "    return sents_needed, sents_rm"
   ]
  },
  {
   "cell_type": "code",
   "execution_count": 17,
   "metadata": {
    "ExecuteTime": {
     "end_time": "2020-12-24T15:46:04.669129Z",
     "start_time": "2020-12-24T15:46:04.661038Z"
    }
   },
   "outputs": [],
   "source": [
    "w, w_rm = remove_sents(w, 1)\n",
    "rt, rt_rm = remove_sents(rt, 2)\n",
    "t, t_rm = remove_sents(t, 3)\n",
    "d, d_rm = remove_sents(d, 4)"
   ]
  },
  {
   "cell_type": "code",
   "execution_count": 18,
   "metadata": {
    "ExecuteTime": {
     "end_time": "2020-12-24T15:46:06.640311Z",
     "start_time": "2020-12-24T15:46:06.622064Z"
    },
    "scrolled": true
   },
   "outputs": [],
   "source": [
    "unk = w_rm + rt_rm + t_rm + d_rm\n",
    "all_classes = [0] * len(w) + [1] * len(rt) + [2] * \\\n",
    "    len(t) + [3] * len(d) + [4] * len(unk)\n",
    "df = pd.DataFrame({\"sentence\": w + rt + t + d + unk, \"class\": all_classes})\n",
    "df.to_csv(\"mh_clean.csv\")"
   ]
  },
  {
   "cell_type": "markdown",
   "metadata": {},
   "source": [
    "# Azin's Work"
   ]
  },
  {
   "cell_type": "code",
   "execution_count": null,
   "metadata": {
    "id": "Z-8K7G_sBEgt"
   },
   "outputs": [],
   "source": [
    "def clean_data(series):\n",
    "    final = []\n",
    "    for elem in series:\n",
    "        try:\n",
    "            sents = elem.split('؟')\n",
    "        except:\n",
    "            print(\"problem splitting data : \" + str(elem))\n",
    "        for sent in sents:\n",
    "            sent = sent.replace('!', '').replace(\n",
    "                '//', '').replace('/', '').replace(',', '').replace('-', '').strip()\n",
    "            if(sent != \"\"):\n",
    "                final.append(sent.strip('/n'))\n",
    "\n",
    "    return final"
   ]
  },
  {
   "cell_type": "code",
   "execution_count": null,
   "metadata": {
    "id": "PwdB9dyEBEgs"
   },
   "outputs": [],
   "source": [
    "weather = answers['weather']"
   ]
  },
  {
   "cell_type": "code",
   "execution_count": null,
   "metadata": {
    "id": "NVTHUezKBEgu",
    "outputId": "14988c48-e933-420e-8ba5-db6d47e19dc7"
   },
   "outputs": [
    {
     "name": "stdout",
     "output_type": "stream",
     "text": [
      "problem splitting data : nan\n",
      "problem splitting data : nan\n",
      "problem splitting data : nan\n",
      "problem splitting data : nan\n",
      "problem splitting data : nan\n"
     ]
    }
   ],
   "source": [
    "final_weather = clean_data(weather)"
   ]
  },
  {
   "cell_type": "code",
   "execution_count": null,
   "metadata": {
    "id": "c6pt8T9lBEgu"
   },
   "outputs": [],
   "source": [
    "shari = answers['shari']"
   ]
  },
  {
   "cell_type": "code",
   "execution_count": null,
   "metadata": {
    "id": "aVlG8KVKBEgv",
    "outputId": "63f53372-50fb-44c9-c033-ea603e2912de"
   },
   "outputs": [
    {
     "name": "stdout",
     "output_type": "stream",
     "text": [
      "problem splitting data : nan\n",
      "problem splitting data : nan\n",
      "problem splitting data : nan\n",
      "problem splitting data : nan\n",
      "problem splitting data : nan\n",
      "problem splitting data : nan\n",
      "problem splitting data : nan\n",
      "problem splitting data : nan\n",
      "problem splitting data : nan\n"
     ]
    }
   ],
   "source": [
    "final_shari = clean_data(shari)"
   ]
  },
  {
   "cell_type": "code",
   "execution_count": null,
   "metadata": {
    "id": "4PNNgUxWBEgx"
   },
   "outputs": [],
   "source": [
    "time = answers['time']"
   ]
  },
  {
   "cell_type": "code",
   "execution_count": null,
   "metadata": {
    "id": "q2FK4DOMBEgy",
    "outputId": "8c5adff7-b8b9-4d24-a17b-e81b729fce7d"
   },
   "outputs": [
    {
     "name": "stdout",
     "output_type": "stream",
     "text": [
      "problem splitting data : nan\n",
      "problem splitting data : nan\n",
      "problem splitting data : nan\n",
      "problem splitting data : nan\n",
      "problem splitting data : nan\n",
      "problem splitting data : nan\n",
      "problem splitting data : nan\n",
      "problem splitting data : nan\n",
      "problem splitting data : nan\n",
      "problem splitting data : nan\n"
     ]
    }
   ],
   "source": [
    "final_time = clean_data(time)"
   ]
  },
  {
   "cell_type": "code",
   "execution_count": null,
   "metadata": {
    "id": "df1VqwEMBEgz"
   },
   "outputs": [],
   "source": [
    "calendar = answers['calnedar']"
   ]
  },
  {
   "cell_type": "code",
   "execution_count": null,
   "metadata": {
    "id": "D-ddScZcBEgz",
    "outputId": "73ada216-81fe-468f-f3f7-e0335344cd6d"
   },
   "outputs": [
    {
     "name": "stdout",
     "output_type": "stream",
     "text": [
      "problem splitting data : nan\n",
      "problem splitting data : nan\n",
      "problem splitting data : nan\n",
      "problem splitting data : nan\n",
      "problem splitting data : nan\n",
      "problem splitting data : nan\n",
      "problem splitting data : nan\n",
      "problem splitting data : nan\n",
      "problem splitting data : nan\n",
      "problem splitting data : nan\n"
     ]
    }
   ],
   "source": [
    "final_calendar = clean_data(calendar)"
   ]
  },
  {
   "cell_type": "code",
   "execution_count": null,
   "metadata": {
    "id": "oOy9g53OBEg0"
   },
   "outputs": [],
   "source": [
    "classes = [1] * len(final_weather)"
   ]
  },
  {
   "cell_type": "code",
   "execution_count": null,
   "metadata": {
    "id": "5VFxL8U1BEg0"
   },
   "outputs": [],
   "source": [
    "classes.extend([2] * len(final_shari))\n",
    "classes.extend([3] * len(final_time))\n",
    "classes.extend([4] * len(final_calendar))"
   ]
  },
  {
   "cell_type": "code",
   "execution_count": null,
   "metadata": {
    "id": "8A9FUaQ6BEg1"
   },
   "outputs": [],
   "source": [
    "final_weather.extend(final_shari)\n",
    "final_weather.extend(final_time)\n",
    "final_weather.extend(final_calendar)"
   ]
  },
  {
   "cell_type": "code",
   "execution_count": null,
   "metadata": {
    "id": "-NblHXHnBEg1"
   },
   "outputs": [],
   "source": [
    "data = final_weather"
   ]
  },
  {
   "cell_type": "code",
   "execution_count": null,
   "metadata": {
    "id": "EjD2Vhr8BEg1"
   },
   "outputs": [],
   "source": [
    "d = {'sentense': data,\n",
    "     'class': classes}"
   ]
  },
  {
   "cell_type": "code",
   "execution_count": null,
   "metadata": {
    "id": "bMd6zN3rBEg2"
   },
   "outputs": [],
   "source": [
    "df = pd.DataFrame(d)"
   ]
  },
  {
   "cell_type": "code",
   "execution_count": null,
   "metadata": {
    "id": "-k_EsfNtBEg-"
   },
   "outputs": [],
   "source": [
    "df.to_csv('answers_clean.csv')"
   ]
  },
  {
   "cell_type": "code",
   "execution_count": null,
   "metadata": {
    "id": "sWApOhD1BEg_"
   },
   "outputs": [],
   "source": []
  }
 ],
 "metadata": {
  "colab": {
   "name": "cleaning form answers.ipynb",
   "provenance": []
  },
  "kernelspec": {
   "display_name": "Python 3",
   "language": "python",
   "name": "python3"
  },
  "language_info": {
   "codemirror_mode": {
    "name": "ipython",
    "version": 3
   },
   "file_extension": ".py",
   "mimetype": "text/x-python",
   "name": "python",
   "nbconvert_exporter": "python",
   "pygments_lexer": "ipython3",
   "version": "3.8.5"
  }
 },
 "nbformat": 4,
 "nbformat_minor": 1
}
