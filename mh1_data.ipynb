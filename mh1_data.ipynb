{
 "cells": [
  {
   "cell_type": "code",
   "execution_count": 1,
   "metadata": {
    "ExecuteTime": {
     "end_time": "2020-12-17T00:33:38.010317Z",
     "start_time": "2020-12-17T00:33:38.000407Z"
    },
    "colab": {
     "base_uri": "https://localhost:8080/"
    },
    "executionInfo": {
     "elapsed": 1254,
     "status": "ok",
     "timestamp": 1608163302252,
     "user": {
      "displayName": "Mohammad Hosein Zarei",
      "photoUrl": "https://lh5.googleusercontent.com/-i499QOl7828/AAAAAAAAAAI/AAAAAAAAAHg/_PDjwus5MiM/s64/photo.jpg",
      "userId": "06417315264126282145"
     },
     "user_tz": -210
    },
    "id": "37yWvOv26wt5",
    "outputId": "962090a6-7354-4bf1-8c3c-9fe48f96435d"
   },
   "outputs": [],
   "source": [
    "# from google.colab import drive\n",
    "# drive.mount('/content/drive/')"
   ]
  },
  {
   "cell_type": "code",
   "execution_count": 2,
   "metadata": {
    "ExecuteTime": {
     "end_time": "2020-12-17T00:33:38.877947Z",
     "start_time": "2020-12-17T00:33:38.872885Z"
    },
    "colab": {
     "base_uri": "https://localhost:8080/"
    },
    "executionInfo": {
     "elapsed": 1190,
     "status": "ok",
     "timestamp": 1608164013921,
     "user": {
      "displayName": "Mohammad Hosein Zarei",
      "photoUrl": "https://lh5.googleusercontent.com/-i499QOl7828/AAAAAAAAAAI/AAAAAAAAAHg/_PDjwus5MiM/s64/photo.jpg",
      "userId": "06417315264126282145"
     },
     "user_tz": -210
    },
    "id": "cbU_hixC4-Cb",
    "outputId": "68794845-e51b-467f-dd5c-4340280ff5cf"
   },
   "outputs": [],
   "source": [
    "# %cd /content/drive/MyDrive/AI-bot"
   ]
  },
  {
   "cell_type": "code",
   "execution_count": 24,
   "metadata": {
    "ExecuteTime": {
     "end_time": "2020-12-17T00:46:33.055650Z",
     "start_time": "2020-12-17T00:46:33.046726Z"
    },
    "executionInfo": {
     "elapsed": 1952,
     "status": "ok",
     "timestamp": 1608163302982,
     "user": {
      "displayName": "Mohammad Hosein Zarei",
      "photoUrl": "https://lh5.googleusercontent.com/-i499QOl7828/AAAAAAAAAAI/AAAAAAAAAHg/_PDjwus5MiM/s64/photo.jpg",
      "userId": "06417315264126282145"
     },
     "user_tz": -210
    },
    "id": "stPe5XSK12kx"
   },
   "outputs": [],
   "source": [
    "import numpy as np\n",
    "import pandas as pd\n",
    "from hazm import *\n",
    "from collections import Counter"
   ]
  },
  {
   "cell_type": "code",
   "execution_count": 12,
   "metadata": {
    "ExecuteTime": {
     "end_time": "2020-12-17T00:39:56.442054Z",
     "start_time": "2020-12-17T00:39:56.413670Z"
    },
    "colab": {
     "base_uri": "https://localhost:8080/",
     "height": 258
    },
    "executionInfo": {
     "elapsed": 1942,
     "status": "ok",
     "timestamp": 1608163302985,
     "user": {
      "displayName": "Mohammad Hosein Zarei",
      "photoUrl": "https://lh5.googleusercontent.com/-i499QOl7828/AAAAAAAAAAI/AAAAAAAAAHg/_PDjwus5MiM/s64/photo.jpg",
      "userId": "06417315264126282145"
     },
     "user_tz": -210
    },
    "id": "DSis7SLD7Jx3",
    "outputId": "ff7dae82-1d75-48f4-bcd7-ffc8a50cad76",
    "scrolled": true
   },
   "outputs": [
    {
     "data": {
      "text/html": [
       "<div>\n",
       "<style scoped>\n",
       "    .dataframe tbody tr th:only-of-type {\n",
       "        vertical-align: middle;\n",
       "    }\n",
       "\n",
       "    .dataframe tbody tr th {\n",
       "        vertical-align: top;\n",
       "    }\n",
       "\n",
       "    .dataframe thead th {\n",
       "        text-align: right;\n",
       "    }\n",
       "</style>\n",
       "<table border=\"1\" class=\"dataframe\">\n",
       "  <thead>\n",
       "    <tr style=\"text-align: right;\">\n",
       "      <th></th>\n",
       "      <th>Class1-Q</th>\n",
       "      <th>Class1-W</th>\n",
       "      <th>Class2-Q</th>\n",
       "      <th>Class2-W</th>\n",
       "      <th>Class3-Q</th>\n",
       "      <th>Class3-W</th>\n",
       "      <th>Class4-Q</th>\n",
       "      <th>Class4-W</th>\n",
       "    </tr>\n",
       "  </thead>\n",
       "  <tbody>\n",
       "    <tr>\n",
       "      <th>80</th>\n",
       "      <td>کی دوباره بارون می آید؟ // چرا خونه انقدر سرده...</td>\n",
       "      <td>بارون - تهران - برف - مه</td>\n",
       "      <td>ماه رمضون تهران زودتر اذان میشه یا اصفهان ؟\\nز...</td>\n",
       "      <td>اذان - ماه رمضون - اصفهان - تهران- زمستون</td>\n",
       "      <td>الان سئول ساعت چنده؟\\nالان شیلی ساعت چنده؟\\nاگ...</td>\n",
       "      <td>سئول / الان /شیلی / یه روز /آفریقا/ ایران</td>\n",
       "      <td>چند روز تا کریسمس مونده؟\\nروز جهانی خبرنگار چه...</td>\n",
       "      <td>کریسمس/ خبرنگار/شهریور/مهر/سپتامبر</td>\n",
       "    </tr>\n",
       "    <tr>\n",
       "      <th>81</th>\n",
       "      <td>آخرین باری که بارون اومد کی بود؟ // هوا قراره ...</td>\n",
       "      <td>آخرین بار - بارون // هوا - سرد // فقط - ابری -...</td>\n",
       "      <td>اذان صبح چه ساعتیه؟ // تا غروب چقدر مونده؟ // ...</td>\n",
       "      <td>اذان - صبح - ساعت // غروب - چقدر - مونده // اذ...</td>\n",
       "      <td>چقدر به ساعت دو مونده؟ // نه ساعت دیگه ساعت چن...</td>\n",
       "      <td>چقدر - ساعت - دو // نه - ساعت - دیگه // وقت - ...</td>\n",
       "      <td>روز دانشجو چه روزیه؟ // امسال محرم کی شروع میش...</td>\n",
       "      <td>روز - دانشجو // امسال - محرم - کی // چند - روز...</td>\n",
       "    </tr>\n",
       "    <tr>\n",
       "      <th>82</th>\n",
       "      <td>امروز هوا چطوره؟\\nهوا چند درجست؟\\nبنظرت از سال...</td>\n",
       "      <td>هوا درجه هفته سال پیش</td>\n",
       "      <td>ساعت چند اذان صبح میگن؟\\nفاصله اذان تهران با ا...</td>\n",
       "      <td>اذان، صبح، نیمه شب شرعی، ساعت</td>\n",
       "      <td>الان ساعت چنده؟\\nساعت تو واشینگتن چنده؟\\nالان ...</td>\n",
       "      <td>ساعت، روز، شب، اختلاف، جلوتر، عقب‌تر</td>\n",
       "      <td>امروز چندمه؟\\nهفته بعد به چه مناسبتی تعطیله؟\\n...</td>\n",
       "      <td>امروز، روز، مناسبت</td>\n",
       "    </tr>\n",
       "    <tr>\n",
       "      <th>83</th>\n",
       "      <td>آب و هوای هفته آینده رفسنجان چطور است؟\\nمیزان ...</td>\n",
       "      <td>آب و هوا-رفسنجان-هفته آینده//بارش باران-میلیمت...</td>\n",
       "      <td>اذان صبح تهران امروز چه زمانی است؟\\nنیمه شب شر...</td>\n",
       "      <td>اذان صبح-تهران-امروز//نیمه شب شرعی-کرمان</td>\n",
       "      <td>اختلاف ساعتی تهران و کالیفرنیا چقدر است؟\\nالان...</td>\n",
       "      <td>اختلاف ساعت-تهران-کالیفرنیا//الان-مسکو-شب یا ر...</td>\n",
       "      <td>چند روز تا شب یلدا باقی مانده؟\\nروز معلم چه تا...</td>\n",
       "      <td>شب یلدا//روز معلم-چه تاریخی//تاریخ تولد-شما-چه...</td>\n",
       "    </tr>\n",
       "    <tr>\n",
       "      <th>85</th>\n",
       "      <td>هوا چطوره؟</td>\n",
       "      <td>فردا-برف-بارون-نم-سیگار-قهوه</td>\n",
       "      <td>کی اذان میگه؟</td>\n",
       "      <td>اینجا-کی-غروب</td>\n",
       "      <td>کی بیام؟</td>\n",
       "      <td>میای-کی-ساعت-دیر</td>\n",
       "      <td>امروز چه روزیه؟</td>\n",
       "      <td>شب چله - روز پرستار</td>\n",
       "    </tr>\n",
       "  </tbody>\n",
       "</table>\n",
       "</div>"
      ],
      "text/plain": [
       "                                             Class1-Q  \\\n",
       "80  کی دوباره بارون می آید؟ // چرا خونه انقدر سرده...   \n",
       "81  آخرین باری که بارون اومد کی بود؟ // هوا قراره ...   \n",
       "82  امروز هوا چطوره؟\\nهوا چند درجست؟\\nبنظرت از سال...   \n",
       "83  آب و هوای هفته آینده رفسنجان چطور است؟\\nمیزان ...   \n",
       "85                                         هوا چطوره؟   \n",
       "\n",
       "                                             Class1-W  \\\n",
       "80                          بارون - تهران - برف - مه    \n",
       "81  آخرین بار - بارون // هوا - سرد // فقط - ابری -...   \n",
       "82                              هوا درجه هفته سال پیش   \n",
       "83  آب و هوا-رفسنجان-هفته آینده//بارش باران-میلیمت...   \n",
       "85                       فردا-برف-بارون-نم-سیگار-قهوه   \n",
       "\n",
       "                                             Class2-Q  \\\n",
       "80  ماه رمضون تهران زودتر اذان میشه یا اصفهان ؟\\nز...   \n",
       "81  اذان صبح چه ساعتیه؟ // تا غروب چقدر مونده؟ // ...   \n",
       "82  ساعت چند اذان صبح میگن؟\\nفاصله اذان تهران با ا...   \n",
       "83  اذان صبح تهران امروز چه زمانی است؟\\nنیمه شب شر...   \n",
       "85                                      کی اذان میگه؟   \n",
       "\n",
       "                                             Class2-W  \\\n",
       "80          اذان - ماه رمضون - اصفهان - تهران- زمستون   \n",
       "81  اذان - صبح - ساعت // غروب - چقدر - مونده // اذ...   \n",
       "82                      اذان، صبح، نیمه شب شرعی، ساعت   \n",
       "83           اذان صبح-تهران-امروز//نیمه شب شرعی-کرمان   \n",
       "85                                      اینجا-کی-غروب   \n",
       "\n",
       "                                             Class3-Q  \\\n",
       "80  الان سئول ساعت چنده؟\\nالان شیلی ساعت چنده؟\\nاگ...   \n",
       "81  چقدر به ساعت دو مونده؟ // نه ساعت دیگه ساعت چن...   \n",
       "82  الان ساعت چنده؟\\nساعت تو واشینگتن چنده؟\\nالان ...   \n",
       "83  اختلاف ساعتی تهران و کالیفرنیا چقدر است؟\\nالان...   \n",
       "85                                           کی بیام؟   \n",
       "\n",
       "                                             Class3-W  \\\n",
       "80          سئول / الان /شیلی / یه روز /آفریقا/ ایران   \n",
       "81  چقدر - ساعت - دو // نه - ساعت - دیگه // وقت - ...   \n",
       "82               ساعت، روز، شب، اختلاف، جلوتر، عقب‌تر   \n",
       "83  اختلاف ساعت-تهران-کالیفرنیا//الان-مسکو-شب یا ر...   \n",
       "85                                   میای-کی-ساعت-دیر   \n",
       "\n",
       "                                             Class4-Q  \\\n",
       "80  چند روز تا کریسمس مونده؟\\nروز جهانی خبرنگار چه...   \n",
       "81  روز دانشجو چه روزیه؟ // امسال محرم کی شروع میش...   \n",
       "82  امروز چندمه؟\\nهفته بعد به چه مناسبتی تعطیله؟\\n...   \n",
       "83  چند روز تا شب یلدا باقی مانده؟\\nروز معلم چه تا...   \n",
       "85                                    امروز چه روزیه؟   \n",
       "\n",
       "                                             Class4-W  \n",
       "80                 کریسمس/ خبرنگار/شهریور/مهر/سپتامبر  \n",
       "81  روز - دانشجو // امسال - محرم - کی // چند - روز...  \n",
       "82                                 امروز، روز، مناسبت  \n",
       "83  شب یلدا//روز معلم-چه تاریخی//تاریخ تولد-شما-چه...  \n",
       "85                                شب چله - روز پرستار  "
      ]
     },
     "execution_count": 12,
     "metadata": {},
     "output_type": "execute_result"
    }
   ],
   "source": [
    "df = pd.read_csv(\"base_responses.csv\", encoding=\"utf-8\").dropna()\n",
    "df.tail()"
   ]
  },
  {
   "cell_type": "code",
   "execution_count": 41,
   "metadata": {
    "ExecuteTime": {
     "end_time": "2020-12-17T01:18:52.046993Z",
     "start_time": "2020-12-17T01:18:52.026747Z"
    }
   },
   "outputs": [],
   "source": [
    "unused_chars = ['-', '،', '_', '\\n', '//', '/', '\\u200c', 'ـ']\n",
    "unused_words = ['و', 'ف', 'آل', 'قهوه', 'فقط', 'بار', 'بریم',\n",
    "                'فقط', 'غیرقابل', 'نظر', 'یک', 'آمریکا', 'رفسنجان',\n",
    "                'بهترین', 'آخرین', 'کجا', 'همدان', 'تورنتو',\n",
    "                'هند', 'متنوع', 'کشور', 'خیلی', 'اینجا',\n",
    "                'چطور', 'کی', 'قناری', 'چنوبی', 'نیم', 'بعد', \n",
    "                'عجیبی', 'طرز', 'بندر', 'پاییزی', 'زندگی', 'چیه', \n",
    "                'چطوره', 'محل', 'رانندگی', 'احتمال', 'اولین', 'کیری', \n",
    "                'کالیفرنیا', 'آخر', 'ادامه', 'کلانشهر', 'سفر', 'دم', 'مالدیو', \n",
    "                'تنفر', 'جمعه', 'تبریز', 'آذرماه', 'اکنون', 'گیلان', 'البرز', 'ساری', \n",
    "                'دو', 'غروب', 'ظهر', 'بهتر', 'بینی', 'ایده', 'آزاد', 'دانشگاه', \n",
    "                'ترافیک', 'کمتر', 'قشنگ', 'قزوین', 'شوشتر', 'کم', 'قم', \n",
    "                'پاکیزه', 'بر', 'کرمان', 'کلی', 'روشن', 'داشتن', 'دوست', 'عالی', \n",
    "                'شنبه', 'سه', 'عشق', 'آتی', 'بیشترین', 'حالا', 'طولانیترین', 'سنگینتر', \n",
    "                'روی', 'پیاده', 'پودر', 'دربندسر', 'شمشک', 'دیزین', \n",
    "                'آیا', 'ترین', 'زنجان', 'دونفره', '۱۰', 'بیرون', 'جزایر', 'گذشته', \n",
    "                'یا', 'اهواز', 'نوشهر', 'رشت', 'تحمل', 'رو', 'لباس', \n",
    "                'سیگار', 'خوب', 'تا', 'برلین', 'نظرت', 'مشهد', 'الان', 'آینده', \n",
    "                'پیش', 'دیروز', 'امسال', 'ایران', 'پارسال', 'هفته', 'امروز', 'فردا', 'تهران']"
   ]
  },
  {
   "cell_type": "code",
   "execution_count": null,
   "outputs": [],
   "source": [
    "norm = Normalizer()"
   ],
   "metadata": {
    "collapsed": false,
    "pycharm": {
     "name": "#%%\n"
    }
   }
  },
  {
   "cell_type": "code",
   "execution_count": null,
   "outputs": [],
   "source": [
    "words = df[\"Class1-W\"].tolist()\n",
    "words1 = []\n",
    "for s in words:\n",
    "    t = norm.normalize(s)\n",
    "    for c in unused_chars:\n",
    "        t = t.replace(c, ' ')\n",
    "    t = ' '.join(t.split())\n",
    "    words1.append(t)\n",
    "# print(words1)\n",
    "\n",
    "all_words = [w for w in ' '.join(words1).split() if w not in unused_words]\n",
    "ranking = Counter(all_words).most_common()\n",
    "print(ranking), len(ranking)"
   ],
   "metadata": {
    "collapsed": false,
    "pycharm": {
     "name": "#%%\n"
    }
   }
  },
  {
   "cell_type": "code",
   "execution_count": null,
   "outputs": [],
   "source": [],
   "metadata": {
    "collapsed": false,
    "pycharm": {
     "name": "#%%\n"
    }
   }
  },
  {
   "cell_type": "code",
   "execution_count": 42,
   "metadata": {
    "ExecuteTime": {
     "end_time": "2020-12-17T01:18:52.222890Z",
     "start_time": "2020-12-17T01:18:52.218448Z"
    }
   },
   "outputs": [],
   "source": []
  },
  {
   "cell_type": "code",
   "execution_count": 45,
   "metadata": {
    "ExecuteTime": {
     "end_time": "2020-12-17T01:19:16.347892Z",
     "start_time": "2020-12-17T01:19:16.326955Z"
    },
    "colab": {
     "base_uri": "https://localhost:8080/"
    },
    "executionInfo": {
     "elapsed": 1243,
     "status": "ok",
     "timestamp": 1608163718599,
     "user": {
      "displayName": "Mohammad Hosein Zarei",
      "photoUrl": "https://lh5.googleusercontent.com/-i499QOl7828/AAAAAAAAAAI/AAAAAAAAAHg/_PDjwus5MiM/s64/photo.jpg",
      "userId": "06417315264126282145"
     },
     "user_tz": -210
    },
    "id": "Vuv2LXXuBZwX",
    "outputId": "ee86ec10-c294-4200-ca5b-3202dd820ca8",
    "scrolled": true
   },
   "outputs": [
    {
     "name": "stdout",
     "output_type": "stream",
     "text": [
      "[('هوا', 81), ('برف', 19), ('سرد', 17), ('باران', 16), ('بارون', 14), ('آب', 12), ('درجه', 11), ('گرم', 9), ('ابری', 8), ('آفتابی', 7), ('بارانی', 7), ('دما', 6), ('سال', 6), ('هواشناسی', 5), ('روز', 5), ('آلودگی', 4), ('بارش', 3), ('ابر', 3), ('وضعیت', 3), ('کره', 3), ('بارونی', 3), ('زمین', 2), ('آفتاب', 2), ('سردتر', 2), ('آلوده', 2), ('سرعت', 2), ('باد', 2), ('اب', 2), ('خشک', 2), ('طوفانی', 2), ('پاییز', 2), ('تابستان', 2), ('مه', 2), ('میانگین', 2), ('طوفان', 2), ('شرجی', 2), ('سردترین', 2), ('شب', 1), ('زمستان', 1), ('ارتفاع', 1), ('رگبار', 1), ('مرطوب', 1), ('آسمان', 1), ('معتدل', 1), ('برفی', 1), ('شاخص', 1), ('رطوبت', 1), ('دمای', 1), ('فصل', 1), ('الوده', 1), ('بارونیه؟', 1), ('شهر', 1), ('سیل', 1), ('سردی', 1), ('جنوبی', 1), ('ببارد', 1), ('اخیر', 1), ('افزایش', 1), ('وهوا', 1), ('استوایی', 1), ('میلیمتر', 1), ('گزارش', 1), ('سامانه', 1), ('بارشی', 1), ('پایدار', 1), ('امریکا', 1), ('خسارت', 1), ('نم', 1)]\n"
     ]
    },
    {
     "data": {
      "text/plain": [
       "(None, 68)"
      ]
     },
     "execution_count": 45,
     "metadata": {},
     "output_type": "execute_result"
    }
   ],
   "source": [
    "words = df[\"Class1-W\"].tolist()\n",
    "words1 = []\n",
    "for s in words:\n",
    "    t = norm.normalize(s)\n",
    "    for c in unused_chars:\n",
    "        t = t.replace(c, ' ')\n",
    "    t = ' '.join(t.split())\n",
    "    words1.append(t)\n",
    "# print(words1)\n",
    "\n",
    "all_words = [w for w in ' '.join(words1).split() if w not in unused_words]\n",
    "ranking = Counter(all_words).most_common()\n",
    "print(ranking), len(ranking)"
   ]
  },
  {
   "cell_type": "code",
   "execution_count": null,
   "metadata": {
    "id": "i289uKPRBdfi"
   },
   "outputs": [],
   "source": []
  },
  {
   "cell_type": "code",
   "execution_count": null,
   "metadata": {},
   "outputs": [],
   "source": []
  }
 ],
 "metadata": {
  "colab": {
   "authorship_tag": "ABX9TyN7LDMpXtO+GAIomp3eq885",
   "collapsed_sections": [],
   "name": "mh1_data.ipynb",
   "provenance": []
  },
  "kernelspec": {
   "display_name": "PyCharm (hesaba)",
   "language": "python",
   "name": "pycharm-f26cf6f9"
  },
  "language_info": {
   "codemirror_mode": {
    "name": "ipython",
    "version": 3
   },
   "file_extension": ".py",
   "mimetype": "text/x-python",
   "name": "python",
   "nbconvert_exporter": "python",
   "pygments_lexer": "ipython3",
   "version": "3.8.5"
  }
 },
 "nbformat": 4,
 "nbformat_minor": 1
}