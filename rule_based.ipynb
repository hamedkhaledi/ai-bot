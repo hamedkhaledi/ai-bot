{
 "cells": [
  {
   "cell_type": "code",
   "execution_count": 1,
   "metadata": {
    "ExecuteTime": {
     "end_time": "2020-12-18T17:11:49.145520Z",
     "start_time": "2020-12-18T17:11:49.125472Z"
    }
   },
   "outputs": [],
   "source": [
    "%config Completer.use_jedi = False"
   ]
  },
  {
   "cell_type": "code",
   "execution_count": 4,
   "metadata": {
    "ExecuteTime": {
     "end_time": "2020-12-18T17:11:50.537151Z",
     "start_time": "2020-12-18T17:11:49.191553Z"
    },
    "executionInfo": {
     "elapsed": 1952,
     "status": "ok",
     "timestamp": 1608163302982,
     "user": {
      "displayName": "Mohammad Hosein Zarei",
      "photoUrl": "https://lh5.googleusercontent.com/-i499QOl7828/AAAAAAAAAAI/AAAAAAAAAHg/_PDjwus5MiM/s64/photo.jpg",
      "userId": "06417315264126282145"
     },
     "user_tz": -210
    },
    "id": "stPe5XSK12kx"
   },
   "outputs": [],
   "source": [
    "import numpy as np\n",
    "import pandas as pd\n",
    "from hazm import *\n",
    "from collections import Counter\n",
    "\n",
    "from typing import Tuple"
   ]
  },
  {
   "cell_type": "code",
   "execution_count": 5,
   "metadata": {
    "ExecuteTime": {
     "end_time": "2020-12-18T17:11:50.582452Z",
     "start_time": "2020-12-18T17:11:50.540052Z"
    },
    "colab": {
     "base_uri": "https://localhost:8080/",
     "height": 258
    },
    "executionInfo": {
     "elapsed": 1942,
     "status": "ok",
     "timestamp": 1608163302985,
     "user": {
      "displayName": "Mohammad Hosein Zarei",
      "photoUrl": "https://lh5.googleusercontent.com/-i499QOl7828/AAAAAAAAAAI/AAAAAAAAAHg/_PDjwus5MiM/s64/photo.jpg",
      "userId": "06417315264126282145"
     },
     "user_tz": -210
    },
    "id": "DSis7SLD7Jx3",
    "outputId": "ff7dae82-1d75-48f4-bcd7-ffc8a50cad76",
    "scrolled": true
   },
   "outputs": [
    {
     "data": {
      "text/html": [
       "<div>\n",
       "<style scoped>\n",
       "    .dataframe tbody tr th:only-of-type {\n",
       "        vertical-align: middle;\n",
       "    }\n",
       "\n",
       "    .dataframe tbody tr th {\n",
       "        vertical-align: top;\n",
       "    }\n",
       "\n",
       "    .dataframe thead th {\n",
       "        text-align: right;\n",
       "    }\n",
       "</style>\n",
       "<table border=\"1\" class=\"dataframe\">\n",
       "  <thead>\n",
       "    <tr style=\"text-align: right;\">\n",
       "      <th></th>\n",
       "      <th>Class1-Q</th>\n",
       "      <th>Class1-W</th>\n",
       "      <th>Class2-Q</th>\n",
       "      <th>Class2-W</th>\n",
       "      <th>Class3-Q</th>\n",
       "      <th>Class3-W</th>\n",
       "      <th>Class4-Q</th>\n",
       "      <th>Class4-W</th>\n",
       "    </tr>\n",
       "  </thead>\n",
       "  <tbody>\n",
       "    <tr>\n",
       "      <th>0</th>\n",
       "      <td>آیا فردا هوا ابری است؟</td>\n",
       "      <td>آیا - هوا - فردا - ابری</td>\n",
       "      <td>چه زمانی اذان مغرب شروع می‌شود؟</td>\n",
       "      <td>زمان - اذان - مغرب</td>\n",
       "      <td>ساعت چنده؟</td>\n",
       "      <td>ساعت</td>\n",
       "      <td>میلاد پیامبر چه زمانی است؟</td>\n",
       "      <td>میلاد - پیامبر - زمان</td>\n",
       "    </tr>\n",
       "    <tr>\n",
       "      <th>1</th>\n",
       "      <td>هوا فردا آلودست ؟\\nشاخص آلودگی چنده؟\\nیعنی فرد...</td>\n",
       "      <td>برف - بارون - آلودگی - فردا - هواشناسی</td>\n",
       "      <td>اذان کیه؟\\nطلوع آفتاب ساعت چنده؟\\nاذان ظهرو گف...</td>\n",
       "      <td>اذان- غروب- افطار-طلوع-ظهر</td>\n",
       "      <td>الان تو مونیخ ساعت چنده؟\\nاختلاف زمانیمون با ا...</td>\n",
       "      <td>شب - روز - ساعت - اختلاف زمانی - الان</td>\n",
       "      <td>امروز چندمه؟\\nچند روز مونده تا عید؟\\nوقت دکترت...</td>\n",
       "      <td>چند شنبه-تعطیلی-روز-چندمه؟-وقت</td>\n",
       "    </tr>\n",
       "    <tr>\n",
       "      <th>2</th>\n",
       "      <td>شب است.</td>\n",
       "      <td>شب</td>\n",
       "      <td>قبل از شب میباشد</td>\n",
       "      <td>قبل - شب</td>\n",
       "      <td>الان ۲۳ و ۲۳ دقیقه است.</td>\n",
       "      <td>۲۳ - ۲۳</td>\n",
       "      <td>چهارشنبه ۸ آذر</td>\n",
       "      <td>۴ - ۸ - ۹</td>\n",
       "    </tr>\n",
       "    <tr>\n",
       "      <th>3</th>\n",
       "      <td>آلودگی هوای تهران به چه علت است؟\\nهوای نسبی ای...</td>\n",
       "      <td>هوا - تهران - ایران - دما - باران</td>\n",
       "      <td>اذان صبح چه ساعتی‌ست؟\\nاختلاف زمانی اذان ظهر ش...</td>\n",
       "      <td>اذان - صبح - ظهر - تهران - مشهد - اختلاف</td>\n",
       "      <td>اختلاف زمانی ساعت ایران و ترکیه چقدر است؟\\nامر...</td>\n",
       "      <td>اختلاف - ایران - ترکیه - امروز - سال - ۱۴۰۰</td>\n",
       "      <td>تاریخ وفات امام خمینی(ره) چه است؟\\nتاریخ پیروز...</td>\n",
       "      <td>وفات - خمینی - تاریخ - شاه - خامنه‌ای - رهبر -...</td>\n",
       "    </tr>\n",
       "    <tr>\n",
       "      <th>5</th>\n",
       "      <td>امیدوارم هوای دیزین هفته آینده برفی باشد</td>\n",
       "      <td>دیزین-شمشک-دربندسر-برف-بارش-پودر-ابر-باران</td>\n",
       "      <td>اذان صبح خیلی زود است</td>\n",
       "      <td>اذان-طلوع-افتاب-موذن</td>\n",
       "      <td>در دنیای تو ساعت چند است</td>\n",
       "      <td>ساعت-زمان-شیراز-اصفهان-تهران-اختلاف زمانی</td>\n",
       "      <td>هفته دیگر</td>\n",
       "      <td>فردا-تعطیلی-امروز-دیروز-بین اتعطیلین-نوروز-کری...</td>\n",
       "    </tr>\n",
       "  </tbody>\n",
       "</table>\n",
       "</div>"
      ],
      "text/plain": [
       "                                            Class1-Q  \\\n",
       "0                             آیا فردا هوا ابری است؟   \n",
       "1  هوا فردا آلودست ؟\\nشاخص آلودگی چنده؟\\nیعنی فرد...   \n",
       "2                                            شب است.   \n",
       "3  آلودگی هوای تهران به چه علت است؟\\nهوای نسبی ای...   \n",
       "5           امیدوارم هوای دیزین هفته آینده برفی باشد   \n",
       "\n",
       "                                     Class1-W  \\\n",
       "0                     آیا - هوا - فردا - ابری   \n",
       "1      برف - بارون - آلودگی - فردا - هواشناسی   \n",
       "2                                          شب   \n",
       "3           هوا - تهران - ایران - دما - باران   \n",
       "5  دیزین-شمشک-دربندسر-برف-بارش-پودر-ابر-باران   \n",
       "\n",
       "                                            Class2-Q  \\\n",
       "0                    چه زمانی اذان مغرب شروع می‌شود؟   \n",
       "1  اذان کیه؟\\nطلوع آفتاب ساعت چنده؟\\nاذان ظهرو گف...   \n",
       "2                                   قبل از شب میباشد   \n",
       "3  اذان صبح چه ساعتی‌ست؟\\nاختلاف زمانی اذان ظهر ش...   \n",
       "5                              اذان صبح خیلی زود است   \n",
       "\n",
       "                                   Class2-W  \\\n",
       "0                        زمان - اذان - مغرب   \n",
       "1                اذان- غروب- افطار-طلوع-ظهر   \n",
       "2                                  قبل - شب   \n",
       "3  اذان - صبح - ظهر - تهران - مشهد - اختلاف   \n",
       "5                      اذان-طلوع-افتاب-موذن   \n",
       "\n",
       "                                            Class3-Q  \\\n",
       "0                                         ساعت چنده؟   \n",
       "1  الان تو مونیخ ساعت چنده؟\\nاختلاف زمانیمون با ا...   \n",
       "2                            الان ۲۳ و ۲۳ دقیقه است.   \n",
       "3  اختلاف زمانی ساعت ایران و ترکیه چقدر است؟\\nامر...   \n",
       "5                           در دنیای تو ساعت چند است   \n",
       "\n",
       "                                      Class3-W  \\\n",
       "0                                         ساعت   \n",
       "1       شب - روز - ساعت - اختلاف زمانی - الان    \n",
       "2                                      ۲۳ - ۲۳   \n",
       "3  اختلاف - ایران - ترکیه - امروز - سال - ۱۴۰۰   \n",
       "5    ساعت-زمان-شیراز-اصفهان-تهران-اختلاف زمانی   \n",
       "\n",
       "                                            Class4-Q  \\\n",
       "0                         میلاد پیامبر چه زمانی است؟   \n",
       "1  امروز چندمه؟\\nچند روز مونده تا عید؟\\nوقت دکترت...   \n",
       "2                                     چهارشنبه ۸ آذر   \n",
       "3  تاریخ وفات امام خمینی(ره) چه است؟\\nتاریخ پیروز...   \n",
       "5                                         هفته دیگر    \n",
       "\n",
       "                                            Class4-W  \n",
       "0                              میلاد - پیامبر - زمان  \n",
       "1                     چند شنبه-تعطیلی-روز-چندمه؟-وقت  \n",
       "2                                          ۴ - ۸ - ۹  \n",
       "3  وفات - خمینی - تاریخ - شاه - خامنه‌ای - رهبر -...  \n",
       "5  فردا-تعطیلی-امروز-دیروز-بین اتعطیلین-نوروز-کری...  "
      ]
     },
     "execution_count": 5,
     "metadata": {},
     "output_type": "execute_result"
    }
   ],
   "source": [
    "df = pd.read_csv(\"base_responses.csv\", encoding=\"utf-8\").dropna()\n",
    "df.head()"
   ]
  },
  {
   "cell_type": "code",
   "execution_count": 6,
   "metadata": {
    "ExecuteTime": {
     "end_time": "2020-12-18T17:11:50.591828Z",
     "start_time": "2020-12-18T17:11:50.586870Z"
    }
   },
   "outputs": [],
   "source": [
    "unused_chars = ['-', '،', '_', '\\n', '//', '/', '\\u200c', 'ـ', '?', '؟']"
   ]
  },
  {
   "cell_type": "code",
   "execution_count": 37,
   "metadata": {
    "ExecuteTime": {
     "end_time": "2020-12-18T17:46:45.302091Z",
     "start_time": "2020-12-18T17:46:44.357353Z"
    }
   },
   "outputs": [],
   "source": [
    "words, combs = initialize()"
   ]
  },
  {
   "cell_type": "code",
   "execution_count": 38,
   "metadata": {
    "ExecuteTime": {
     "end_time": "2020-12-18T17:11:52.019481Z",
     "start_time": "2020-12-18T17:11:52.014359Z"
    }
   },
   "outputs": [],
   "source": [
    "COMB_SCORE = 6\n",
    "WORD_SCORE = 2"
   ]
  },
  {
   "cell_type": "code",
   "execution_count": 39,
   "metadata": {
    "ExecuteTime": {
     "end_time": "2020-12-18T17:11:50.615385Z",
     "start_time": "2020-12-18T17:11:50.609563Z"
    }
   },
   "outputs": [],
   "source": [
    "def get_sw(filename: str) -> list:\n",
    "    with open(filename, encoding=\"utf-8\") as f:\n",
    "        sw = f.read().split('\\n')\n",
    "        return sw"
   ]
  },
  {
   "cell_type": "code",
   "execution_count": 40,
   "metadata": {
    "ExecuteTime": {
     "end_time": "2020-12-18T17:11:50.627876Z",
     "start_time": "2020-12-18T17:11:50.619828Z"
    },
    "pycharm": {
     "name": "#%%\n"
    }
   },
   "outputs": [],
   "source": [
    "def get_list_from(filename: str) -> list:\n",
    "    with open(filename) as f:\n",
    "        temp = f.read().split('=')\n",
    "        ret = []\n",
    "        for t in temp:\n",
    "            ret.append([w for w in t.split('\\n') if w != ''])\n",
    "        return ret"
   ]
  },
  {
   "cell_type": "code",
   "execution_count": 41,
   "metadata": {
    "ExecuteTime": {
     "end_time": "2020-12-18T17:31:42.607086Z",
     "start_time": "2020-12-18T17:31:42.599986Z"
    }
   },
   "outputs": [],
   "source": [
    "def parse_shamsi_events(sw: list) -> Tuple[list, list]:\n",
    "    events = pd.read_csv(\"shamsi_events.csv\", encoding=\"utf-8\")\n",
    "    combs = events[\"event\"].tolist()\n",
    "    words = []\n",
    "    for c in combs:\n",
    "        words += [w for w in norm.normalize(c).split(' ') if w not in sw]\n",
    "    return list(words), combs"
   ]
  },
  {
   "cell_type": "code",
   "execution_count": 42,
   "metadata": {
    "ExecuteTime": {
     "end_time": "2020-12-18T17:36:04.278903Z",
     "start_time": "2020-12-18T17:36:04.247330Z"
    }
   },
   "outputs": [],
   "source": [
    "def initialize() -> Tuple[list, list]:\n",
    "    sw = get_sw(\"stop_words_short.txt\")\n",
    "    used_words = get_list_from(\"used_words.txt\")\n",
    "    used_combs = get_list_from(\"used_combs.txt\")\n",
    "    \n",
    "    w, c = parse_shamsi_events(sw)\n",
    "    used_words[3] += w\n",
    "    used_combs[3] += c\n",
    "    \n",
    "    used_words = [list(set(w)) for w in used_words]\n",
    "    used_combs = [list(set(w)) for w in used_combs]\n",
    "    \n",
    "    return used_words, used_combs"
   ]
  },
  {
   "cell_type": "code",
   "execution_count": 43,
   "metadata": {
    "ExecuteTime": {
     "end_time": "2020-12-18T17:38:26.064114Z",
     "start_time": "2020-12-18T17:38:26.056138Z"
    }
   },
   "outputs": [],
   "source": [
    "def score(sent: str, c: int) -> int:\n",
    "    ret = 0\n",
    "    for comb in combs[c]:\n",
    "        if comb in sent:\n",
    "            print('a', comb)\n",
    "            ret += COMB_SCORE\n",
    "    for w in words[c]:\n",
    "        if w in sent.split(' '):\n",
    "            print(w, c)\n",
    "            ret += WORD_SCORE\n",
    "    return ret"
   ]
  },
  {
   "cell_type": "code",
   "execution_count": 44,
   "metadata": {
    "ExecuteTime": {
     "end_time": "2020-12-18T17:12:45.632540Z",
     "start_time": "2020-12-18T17:12:45.626135Z"
    }
   },
   "outputs": [],
   "source": [
    "def total_score(sent: str, c: int) -> dict:\n",
    "    scoring = {}\n",
    "    for i in range(4):\n",
    "        scoring[i] = score(sent, i)\n",
    "    return scoring"
   ]
  },
  {
   "cell_type": "code",
   "execution_count": 45,
   "metadata": {},
   "outputs": [],
   "source": [
    "def return_scores (sent) : \n",
    "    norm = Normalizer()\n",
    "    c = -1\n",
    "    print(norm.normalize(sent))\n",
    "    return total_score(norm.normalize(sent), c)"
   ]
  },
  {
   "cell_type": "code",
   "execution_count": null,
   "metadata": {},
   "outputs": [],
   "source": []
  },
  {
   "cell_type": "code",
   "execution_count": null,
   "metadata": {},
   "outputs": [],
   "source": []
  }
 ],
 "metadata": {
  "colab": {
   "authorship_tag": "ABX9TyN7LDMpXtO+GAIomp3eq885",
   "collapsed_sections": [],
   "name": "mh1_data.ipynb",
   "provenance": []
  },
  "kernelspec": {
   "display_name": "Python 3",
   "language": "python",
   "name": "python3"
  },
  "language_info": {
   "codemirror_mode": {
    "name": "ipython",
    "version": 3
   },
   "file_extension": ".py",
   "mimetype": "text/x-python",
   "name": "python",
   "nbconvert_exporter": "python",
   "pygments_lexer": "ipython3",
   "version": "3.8.5"
  }
 },
 "nbformat": 4,
 "nbformat_minor": 1
}
