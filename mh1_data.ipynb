{
 "cells": [
  {
   "cell_type": "code",
   "execution_count": 1,
   "metadata": {
    "ExecuteTime": {
     "end_time": "2020-12-18T13:24:42.803478Z",
     "start_time": "2020-12-18T13:24:42.783278Z"
    }
   },
   "outputs": [],
   "source": [
    "%config Completer.use_jedi = False"
   ]
  },
  {
   "cell_type": "code",
   "execution_count": 1,
   "metadata": {
    "ExecuteTime": {
     "end_time": "2020-12-17T00:33:38.010317Z",
     "start_time": "2020-12-17T00:33:38.000407Z"
    },
    "colab": {
     "base_uri": "https://localhost:8080/"
    },
    "executionInfo": {
     "elapsed": 1254,
     "status": "ok",
     "timestamp": 1608163302252,
     "user": {
      "displayName": "Mohammad Hosein Zarei",
      "photoUrl": "https://lh5.googleusercontent.com/-i499QOl7828/AAAAAAAAAAI/AAAAAAAAAHg/_PDjwus5MiM/s64/photo.jpg",
      "userId": "06417315264126282145"
     },
     "user_tz": -210
    },
    "id": "37yWvOv26wt5",
    "outputId": "962090a6-7354-4bf1-8c3c-9fe48f96435d"
   },
   "outputs": [],
   "source": [
    "# from google.colab import drive\n",
    "# drive.mount('/content/drive/')"
   ]
  },
  {
   "cell_type": "code",
   "execution_count": 2,
   "metadata": {
    "ExecuteTime": {
     "end_time": "2020-12-17T00:33:38.877947Z",
     "start_time": "2020-12-17T00:33:38.872885Z"
    },
    "colab": {
     "base_uri": "https://localhost:8080/"
    },
    "executionInfo": {
     "elapsed": 1190,
     "status": "ok",
     "timestamp": 1608164013921,
     "user": {
      "displayName": "Mohammad Hosein Zarei",
      "photoUrl": "https://lh5.googleusercontent.com/-i499QOl7828/AAAAAAAAAAI/AAAAAAAAAHg/_PDjwus5MiM/s64/photo.jpg",
      "userId": "06417315264126282145"
     },
     "user_tz": -210
    },
    "id": "cbU_hixC4-Cb",
    "outputId": "68794845-e51b-467f-dd5c-4340280ff5cf"
   },
   "outputs": [],
   "source": [
    "# %cd /content/drive/MyDrive/AI-bot"
   ]
  },
  {
   "cell_type": "code",
   "execution_count": 2,
   "metadata": {
    "ExecuteTime": {
     "end_time": "2020-12-18T13:24:46.597674Z",
     "start_time": "2020-12-18T13:24:43.845649Z"
    },
    "executionInfo": {
     "elapsed": 1952,
     "status": "ok",
     "timestamp": 1608163302982,
     "user": {
      "displayName": "Mohammad Hosein Zarei",
      "photoUrl": "https://lh5.googleusercontent.com/-i499QOl7828/AAAAAAAAAAI/AAAAAAAAAHg/_PDjwus5MiM/s64/photo.jpg",
      "userId": "06417315264126282145"
     },
     "user_tz": -210
    },
    "id": "stPe5XSK12kx"
   },
   "outputs": [],
   "source": [
    "import numpy as np\n",
    "import pandas as pd\n",
    "from hazm import *\n",
    "from collections import Counter"
   ]
  },
  {
   "cell_type": "code",
   "execution_count": 3,
   "metadata": {
    "ExecuteTime": {
     "end_time": "2020-12-18T13:24:46.659442Z",
     "start_time": "2020-12-18T13:24:46.600950Z"
    },
    "colab": {
     "base_uri": "https://localhost:8080/",
     "height": 258
    },
    "executionInfo": {
     "elapsed": 1942,
     "status": "ok",
     "timestamp": 1608163302985,
     "user": {
      "displayName": "Mohammad Hosein Zarei",
      "photoUrl": "https://lh5.googleusercontent.com/-i499QOl7828/AAAAAAAAAAI/AAAAAAAAAHg/_PDjwus5MiM/s64/photo.jpg",
      "userId": "06417315264126282145"
     },
     "user_tz": -210
    },
    "id": "DSis7SLD7Jx3",
    "outputId": "ff7dae82-1d75-48f4-bcd7-ffc8a50cad76",
    "scrolled": true
   },
   "outputs": [
    {
     "data": {
      "text/html": [
       "<div>\n",
       "<style scoped>\n",
       "    .dataframe tbody tr th:only-of-type {\n",
       "        vertical-align: middle;\n",
       "    }\n",
       "\n",
       "    .dataframe tbody tr th {\n",
       "        vertical-align: top;\n",
       "    }\n",
       "\n",
       "    .dataframe thead th {\n",
       "        text-align: right;\n",
       "    }\n",
       "</style>\n",
       "<table border=\"1\" class=\"dataframe\">\n",
       "  <thead>\n",
       "    <tr style=\"text-align: right;\">\n",
       "      <th></th>\n",
       "      <th>Class1-Q</th>\n",
       "      <th>Class1-W</th>\n",
       "      <th>Class2-Q</th>\n",
       "      <th>Class2-W</th>\n",
       "      <th>Class3-Q</th>\n",
       "      <th>Class3-W</th>\n",
       "      <th>Class4-Q</th>\n",
       "      <th>Class4-W</th>\n",
       "    </tr>\n",
       "  </thead>\n",
       "  <tbody>\n",
       "    <tr>\n",
       "      <th>0</th>\n",
       "      <td>آیا فردا هوا ابری است؟</td>\n",
       "      <td>آیا - هوا - فردا - ابری</td>\n",
       "      <td>چه زمانی اذان مغرب شروع می‌شود؟</td>\n",
       "      <td>زمان - اذان - مغرب</td>\n",
       "      <td>ساعت چنده؟</td>\n",
       "      <td>ساعت</td>\n",
       "      <td>میلاد پیامبر چه زمانی است؟</td>\n",
       "      <td>میلاد - پیامبر - زمان</td>\n",
       "    </tr>\n",
       "    <tr>\n",
       "      <th>1</th>\n",
       "      <td>هوا فردا آلودست ؟\\nشاخص آلودگی چنده؟\\nیعنی فرد...</td>\n",
       "      <td>برف - بارون - آلودگی - فردا - هواشناسی</td>\n",
       "      <td>اذان کیه؟\\nطلوع آفتاب ساعت چنده؟\\nاذان ظهرو گف...</td>\n",
       "      <td>اذان- غروب- افطار-طلوع-ظهر</td>\n",
       "      <td>الان تو مونیخ ساعت چنده؟\\nاختلاف زمانیمون با ا...</td>\n",
       "      <td>شب - روز - ساعت - اختلاف زمانی - الان</td>\n",
       "      <td>امروز چندمه؟\\nچند روز مونده تا عید؟\\nوقت دکترت...</td>\n",
       "      <td>چند شنبه-تعطیلی-روز-چندمه؟-وقت</td>\n",
       "    </tr>\n",
       "    <tr>\n",
       "      <th>2</th>\n",
       "      <td>شب است.</td>\n",
       "      <td>شب</td>\n",
       "      <td>قبل از شب میباشد</td>\n",
       "      <td>قبل - شب</td>\n",
       "      <td>الان ۲۳ و ۲۳ دقیقه است.</td>\n",
       "      <td>۲۳ - ۲۳</td>\n",
       "      <td>چهارشنبه ۸ آذر</td>\n",
       "      <td>۴ - ۸ - ۹</td>\n",
       "    </tr>\n",
       "    <tr>\n",
       "      <th>3</th>\n",
       "      <td>آلودگی هوای تهران به چه علت است؟\\nهوای نسبی ای...</td>\n",
       "      <td>هوا - تهران - ایران - دما - باران</td>\n",
       "      <td>اذان صبح چه ساعتی‌ست؟\\nاختلاف زمانی اذان ظهر ش...</td>\n",
       "      <td>اذان - صبح - ظهر - تهران - مشهد - اختلاف</td>\n",
       "      <td>اختلاف زمانی ساعت ایران و ترکیه چقدر است؟\\nامر...</td>\n",
       "      <td>اختلاف - ایران - ترکیه - امروز - سال - ۱۴۰۰</td>\n",
       "      <td>تاریخ وفات امام خمینی(ره) چه است؟\\nتاریخ پیروز...</td>\n",
       "      <td>وفات - خمینی - تاریخ - شاه - خامنه‌ای - رهبر -...</td>\n",
       "    </tr>\n",
       "    <tr>\n",
       "      <th>5</th>\n",
       "      <td>امیدوارم هوای دیزین هفته آینده برفی باشد</td>\n",
       "      <td>دیزین-شمشک-دربندسر-برف-بارش-پودر-ابر-باران</td>\n",
       "      <td>اذان صبح خیلی زود است</td>\n",
       "      <td>اذان-طلوع-افتاب-موذن</td>\n",
       "      <td>در دنیای تو ساعت چند است</td>\n",
       "      <td>ساعت-زمان-شیراز-اصفهان-تهران-اختلاف زمانی</td>\n",
       "      <td>هفته دیگر</td>\n",
       "      <td>فردا-تعطیلی-امروز-دیروز-بین اتعطیلین-نوروز-کری...</td>\n",
       "    </tr>\n",
       "  </tbody>\n",
       "</table>\n",
       "</div>"
      ],
      "text/plain": [
       "                                            Class1-Q  \\\n",
       "0                             آیا فردا هوا ابری است؟   \n",
       "1  هوا فردا آلودست ؟\\nشاخص آلودگی چنده؟\\nیعنی فرد...   \n",
       "2                                            شب است.   \n",
       "3  آلودگی هوای تهران به چه علت است؟\\nهوای نسبی ای...   \n",
       "5           امیدوارم هوای دیزین هفته آینده برفی باشد   \n",
       "\n",
       "                                     Class1-W  \\\n",
       "0                     آیا - هوا - فردا - ابری   \n",
       "1      برف - بارون - آلودگی - فردا - هواشناسی   \n",
       "2                                          شب   \n",
       "3           هوا - تهران - ایران - دما - باران   \n",
       "5  دیزین-شمشک-دربندسر-برف-بارش-پودر-ابر-باران   \n",
       "\n",
       "                                            Class2-Q  \\\n",
       "0                    چه زمانی اذان مغرب شروع می‌شود؟   \n",
       "1  اذان کیه؟\\nطلوع آفتاب ساعت چنده؟\\nاذان ظهرو گف...   \n",
       "2                                   قبل از شب میباشد   \n",
       "3  اذان صبح چه ساعتی‌ست؟\\nاختلاف زمانی اذان ظهر ش...   \n",
       "5                              اذان صبح خیلی زود است   \n",
       "\n",
       "                                   Class2-W  \\\n",
       "0                        زمان - اذان - مغرب   \n",
       "1                اذان- غروب- افطار-طلوع-ظهر   \n",
       "2                                  قبل - شب   \n",
       "3  اذان - صبح - ظهر - تهران - مشهد - اختلاف   \n",
       "5                      اذان-طلوع-افتاب-موذن   \n",
       "\n",
       "                                            Class3-Q  \\\n",
       "0                                         ساعت چنده؟   \n",
       "1  الان تو مونیخ ساعت چنده؟\\nاختلاف زمانیمون با ا...   \n",
       "2                            الان ۲۳ و ۲۳ دقیقه است.   \n",
       "3  اختلاف زمانی ساعت ایران و ترکیه چقدر است؟\\nامر...   \n",
       "5                           در دنیای تو ساعت چند است   \n",
       "\n",
       "                                      Class3-W  \\\n",
       "0                                         ساعت   \n",
       "1       شب - روز - ساعت - اختلاف زمانی - الان    \n",
       "2                                      ۲۳ - ۲۳   \n",
       "3  اختلاف - ایران - ترکیه - امروز - سال - ۱۴۰۰   \n",
       "5    ساعت-زمان-شیراز-اصفهان-تهران-اختلاف زمانی   \n",
       "\n",
       "                                            Class4-Q  \\\n",
       "0                         میلاد پیامبر چه زمانی است؟   \n",
       "1  امروز چندمه؟\\nچند روز مونده تا عید؟\\nوقت دکترت...   \n",
       "2                                     چهارشنبه ۸ آذر   \n",
       "3  تاریخ وفات امام خمینی(ره) چه است؟\\nتاریخ پیروز...   \n",
       "5                                         هفته دیگر    \n",
       "\n",
       "                                            Class4-W  \n",
       "0                              میلاد - پیامبر - زمان  \n",
       "1                     چند شنبه-تعطیلی-روز-چندمه؟-وقت  \n",
       "2                                          ۴ - ۸ - ۹  \n",
       "3  وفات - خمینی - تاریخ - شاه - خامنه‌ای - رهبر -...  \n",
       "5  فردا-تعطیلی-امروز-دیروز-بین اتعطیلین-نوروز-کری...  "
      ]
     },
     "execution_count": 3,
     "metadata": {},
     "output_type": "execute_result"
    }
   ],
   "source": [
    "df = pd.read_csv(\"base_responses.csv\", encoding=\"utf-8\").dropna()\n",
    "df.head()"
   ]
  },
  {
   "cell_type": "code",
   "execution_count": 4,
   "metadata": {
    "ExecuteTime": {
     "end_time": "2020-12-18T13:24:48.256162Z",
     "start_time": "2020-12-18T13:24:48.250631Z"
    }
   },
   "outputs": [],
   "source": [
    "with open(\"stop_words_short.txt\", encoding=\"utf-8\") as f:\n",
    "    sw = f.read().split('\\n')"
   ]
  },
  {
   "cell_type": "code",
   "execution_count": 5,
   "metadata": {
    "ExecuteTime": {
     "end_time": "2020-12-18T13:24:49.198416Z",
     "start_time": "2020-12-18T13:24:49.188013Z"
    },
    "pycharm": {
     "name": "#%%\n"
    }
   },
   "outputs": [],
   "source": [
    "norm = Normalizer()"
   ]
  },
  {
   "cell_type": "code",
   "execution_count": 6,
   "metadata": {
    "ExecuteTime": {
     "end_time": "2020-12-18T13:24:53.902148Z",
     "start_time": "2020-12-18T13:24:53.894200Z"
    }
   },
   "outputs": [],
   "source": [
    "unused_chars = ['-', '،', '_', '\\n', '//', '/', '\\u200c', 'ـ', '?', '؟']\n",
    "with open(\"used_words.txt\") as f:\n",
    "    temp = f.read().split('=')\n",
    "    used_words = []\n",
    "    for t in temp:\n",
    "        used_words.append([w for w in t.split('\\n') if w != ''])"
   ]
  },
  {
   "cell_type": "code",
   "execution_count": 8,
   "metadata": {
    "ExecuteTime": {
     "end_time": "2020-12-18T13:25:06.428682Z",
     "start_time": "2020-12-18T13:25:06.419562Z"
    },
    "scrolled": true
   },
   "outputs": [
    {
     "data": {
      "text/plain": [
       "['ساعت',\n",
       " 'اختلاف',\n",
       " 'الان',\n",
       " 'زمان',\n",
       " 'گرینویچ',\n",
       " 'فاصله',\n",
       " 'عقب',\n",
       " 'قدیم',\n",
       " 'جدید',\n",
       " 'رسمی',\n",
       " 'کابل',\n",
       " 'بازه',\n",
       " 'ساعتی',\n",
       " 'عقربه',\n",
       " 'دیروقت',\n",
       " 'مدت',\n",
       " 'طول',\n",
       " 'ثانیه',\n",
       " 'ساعات',\n",
       " 'gmt',\n",
       " 'ربع',\n",
       " 'مونده',\n",
       " 'تاریخ',\n",
       " 'چندم',\n",
       " 'غروب',\n",
       " 'وقت',\n",
       " 'جلوتر',\n",
       " 'روزی',\n",
       " 'ماه',\n",
       " 'دیر']"
      ]
     },
     "execution_count": 8,
     "metadata": {},
     "output_type": "execute_result"
    }
   ],
   "source": [
    "used_words[2]"
   ]
  },
  {
   "cell_type": "code",
   "execution_count": 23,
   "metadata": {
    "ExecuteTime": {
     "end_time": "2020-12-18T14:07:44.505499Z",
     "start_time": "2020-12-18T14:07:44.484308Z"
    },
    "pycharm": {
     "name": "#%%\n"
    },
    "scrolled": true
   },
   "outputs": [
    {
     "data": {
      "text/plain": [
       "('روزی', 1)"
      ]
     },
     "execution_count": 23,
     "metadata": {},
     "output_type": "execute_result"
    }
   ],
   "source": [
    "words = df[\"Class4-W\"].tolist()\n",
    "words1 = []\n",
    "for s in words:\n",
    "    t = norm.normalize(s)\n",
    "    for c in unused_chars:\n",
    "        t = t.replace(c, ' ')\n",
    "    t = ' '.join(t.split())\n",
    "    words1.append(t)\n",
    "\n",
    "all_words = [w for w in ' '.join(words1).split() if w in used_words[3]]\n",
    "ranking = Counter(all_words).most_common()\n",
    "ranking[-1]"
   ]
  },
  {
   "cell_type": "code",
   "execution_count": null,
   "metadata": {
    "pycharm": {
     "name": "#%%\n"
    }
   },
   "outputs": [],
   "source": []
  }
 ],
 "metadata": {
  "colab": {
   "authorship_tag": "ABX9TyN7LDMpXtO+GAIomp3eq885",
   "collapsed_sections": [],
   "name": "mh1_data.ipynb",
   "provenance": []
  },
  "kernelspec": {
   "display_name": "Python 3",
   "language": "python",
   "name": "python3"
  },
  "language_info": {
   "codemirror_mode": {
    "name": "ipython",
    "version": 3
   },
   "file_extension": ".py",
   "mimetype": "text/x-python",
   "name": "python",
   "nbconvert_exporter": "python",
   "pygments_lexer": "ipython3",
   "version": "3.8.5"
  }
 },
 "nbformat": 4,
 "nbformat_minor": 1
}
