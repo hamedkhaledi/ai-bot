{
 "cells": [
  {
   "cell_type": "code",
   "execution_count": 1,
   "metadata": {
    "ExecuteTime": {
     "end_time": "2020-12-17T19:26:04.824004Z",
     "start_time": "2020-12-17T19:26:02.847260Z"
    },
    "id": "JZs781CHBEge"
   },
   "outputs": [],
   "source": [
    "import numpy as np \n",
    "import pandas as pd\n",
    "from hazm import *"
   ]
  },
  {
   "cell_type": "code",
   "execution_count": null,
   "metadata": {
    "id": "FhR86VxzBEgn",
    "outputId": "326fdf7d-65c6-4f46-cae9-24c58c06be70"
   },
   "outputs": [
    {
     "name": "stdout",
     "output_type": "stream",
     "text": [
      "سلام\n"
     ]
    }
   ],
   "source": [
    "sentence_to_cluster = input()"
   ]
  },
  {
   "cell_type": "markdown",
   "metadata": {
    "id": "6LXPdRujBEgp"
   },
   "source": [
    "## cleaning data"
   ]
  },
  {
   "cell_type": "code",
   "execution_count": null,
   "metadata": {
    "id": "W89a_GcbBEgq"
   },
   "outputs": [],
   "source": [
    "answers = pd.read_csv('answers.csv')\n",
    "answers = answers.drop(0) #dropping first row"
   ]
  },
  {
   "cell_type": "code",
   "execution_count": null,
   "metadata": {
    "id": "uAg54iIkBEgs",
    "outputId": "d8d4a074-e070-4792-b993-a015b9841ad9"
   },
   "outputs": [
    {
     "data": {
      "text/html": [
       "<div>\n",
       "<style scoped>\n",
       "    .dataframe tbody tr th:only-of-type {\n",
       "        vertical-align: middle;\n",
       "    }\n",
       "\n",
       "    .dataframe tbody tr th {\n",
       "        vertical-align: top;\n",
       "    }\n",
       "\n",
       "    .dataframe thead th {\n",
       "        text-align: right;\n",
       "    }\n",
       "</style>\n",
       "<table border=\"1\" class=\"dataframe\">\n",
       "  <thead>\n",
       "    <tr style=\"text-align: right;\">\n",
       "      <th></th>\n",
       "      <th>Timestamp</th>\n",
       "      <th>weather</th>\n",
       "      <th>weatherKeys</th>\n",
       "      <th>shari</th>\n",
       "      <th>shariKeys</th>\n",
       "      <th>time</th>\n",
       "      <th>timeKeys</th>\n",
       "      <th>calnedar</th>\n",
       "      <th>calendarKeys</th>\n",
       "    </tr>\n",
       "  </thead>\n",
       "  <tbody>\n",
       "    <tr>\n",
       "      <th>1</th>\n",
       "      <td>3/12/2020 23:00</td>\n",
       "      <td>آیا فردا هوا ابری است؟</td>\n",
       "      <td>آیا - هوا - فردا - ابری</td>\n",
       "      <td>چه زمانی اذان مغرب شروع می‌شود؟</td>\n",
       "      <td>زمان - اذان - مغرب</td>\n",
       "      <td>ساعت چنده؟</td>\n",
       "      <td>ساعت</td>\n",
       "      <td>میلاد پیامبر چه زمانی است؟</td>\n",
       "      <td>میلاد - پیامبر - زمان</td>\n",
       "    </tr>\n",
       "    <tr>\n",
       "      <th>2</th>\n",
       "      <td>3/12/2020 23:10</td>\n",
       "      <td>هوا فردا آلودست ؟\\nشاخص آلودگی چنده؟\\nیعنی فرد...</td>\n",
       "      <td>برف - بارون - آلودگی - فردا - هواشناسی</td>\n",
       "      <td>اذان کیه؟\\nطلوع آفتاب ساعت چنده؟\\nاذان ظهرو گف...</td>\n",
       "      <td>اذان- غروب- افطار-طلوع-ظهر</td>\n",
       "      <td>الان تو مونیخ ساعت چنده؟\\nاختلاف زمانیمون با ا...</td>\n",
       "      <td>شب - روز - ساعت - اختلاف زمانی - الان</td>\n",
       "      <td>امروز چندمه؟\\nچند روز مونده تا عید؟\\nوقت دکترت...</td>\n",
       "      <td>چند شنبه-تعطیلی-روز-چندمه؟-وقت</td>\n",
       "    </tr>\n",
       "    <tr>\n",
       "      <th>3</th>\n",
       "      <td>3/12/2020 23:13</td>\n",
       "      <td>شب است.</td>\n",
       "      <td>شب</td>\n",
       "      <td>قبل از شب میباشد</td>\n",
       "      <td>قبل - شب</td>\n",
       "      <td>الان ۲۳ و ۲۳ دقیقه است.</td>\n",
       "      <td>۲۳ - ۲۳</td>\n",
       "      <td>چهارشنبه ۸ آذر</td>\n",
       "      <td>۴ - ۸ - ۹</td>\n",
       "    </tr>\n",
       "    <tr>\n",
       "      <th>4</th>\n",
       "      <td>3/12/2020 23:13</td>\n",
       "      <td>آلودگی هوای تهران به چه علت است؟\\nهوای نسبی ای...</td>\n",
       "      <td>هوا - تهران - ایران - دما - باران</td>\n",
       "      <td>اذان صبح چه ساعتی‌ست؟\\nاختلاف زمانی اذان ظهر ش...</td>\n",
       "      <td>اذان - صبح - ظهر - تهران - مشهد - اختلاف</td>\n",
       "      <td>اختلاف زمانی ساعت ایران و ترکیه چقدر است؟\\nامر...</td>\n",
       "      <td>اختلاف - ایران - ترکیه - امروز - سال - ۱۴۰۰</td>\n",
       "      <td>تاریخ وفات امام خمینی(ره) چه است؟\\nتاریخ پیروز...</td>\n",
       "      <td>وفات - خمینی - تاریخ - شاه - خامنه‌ای - رهبر -...</td>\n",
       "    </tr>\n",
       "    <tr>\n",
       "      <th>5</th>\n",
       "      <td>3/12/2020 23:31</td>\n",
       "      <td>آیا فردا هوا ابریست؟\\nآیا فردا باران میبارد؟!\\...</td>\n",
       "      <td>هوا-هواشناسی- امروز- فردا - باران-  ابر</td>\n",
       "      <td>NaN</td>\n",
       "      <td>NaN</td>\n",
       "      <td>چند ساعت تا غروب مانده ؟!\\nتهران چند ساعت با ک...</td>\n",
       "      <td>الان- زمان- ساعت</td>\n",
       "      <td>امروز چندم ماه است؟\\nاین ماه چند روز دارد؟\\nتا...</td>\n",
       "      <td>ماه- چندم- تاریخ</td>\n",
       "    </tr>\n",
       "  </tbody>\n",
       "</table>\n",
       "</div>"
      ],
      "text/plain": [
       "         Timestamp                                            weather  \\\n",
       "1  3/12/2020 23:00                             آیا فردا هوا ابری است؟   \n",
       "2  3/12/2020 23:10  هوا فردا آلودست ؟\\nشاخص آلودگی چنده؟\\nیعنی فرد...   \n",
       "3  3/12/2020 23:13                                            شب است.   \n",
       "4  3/12/2020 23:13  آلودگی هوای تهران به چه علت است؟\\nهوای نسبی ای...   \n",
       "5  3/12/2020 23:31  آیا فردا هوا ابریست؟\\nآیا فردا باران میبارد؟!\\...   \n",
       "\n",
       "                               weatherKeys  \\\n",
       "1                  آیا - هوا - فردا - ابری   \n",
       "2   برف - بارون - آلودگی - فردا - هواشناسی   \n",
       "3                                       شب   \n",
       "4        هوا - تهران - ایران - دما - باران   \n",
       "5  هوا-هواشناسی- امروز- فردا - باران-  ابر   \n",
       "\n",
       "                                               shari  \\\n",
       "1                    چه زمانی اذان مغرب شروع می‌شود؟   \n",
       "2  اذان کیه؟\\nطلوع آفتاب ساعت چنده؟\\nاذان ظهرو گف...   \n",
       "3                                   قبل از شب میباشد   \n",
       "4  اذان صبح چه ساعتی‌ست؟\\nاختلاف زمانی اذان ظهر ش...   \n",
       "5                                                NaN   \n",
       "\n",
       "                                  shariKeys  \\\n",
       "1                        زمان - اذان - مغرب   \n",
       "2                اذان- غروب- افطار-طلوع-ظهر   \n",
       "3                                  قبل - شب   \n",
       "4  اذان - صبح - ظهر - تهران - مشهد - اختلاف   \n",
       "5                                       NaN   \n",
       "\n",
       "                                                time  \\\n",
       "1                                         ساعت چنده؟   \n",
       "2  الان تو مونیخ ساعت چنده؟\\nاختلاف زمانیمون با ا...   \n",
       "3                            الان ۲۳ و ۲۳ دقیقه است.   \n",
       "4  اختلاف زمانی ساعت ایران و ترکیه چقدر است؟\\nامر...   \n",
       "5  چند ساعت تا غروب مانده ؟!\\nتهران چند ساعت با ک...   \n",
       "\n",
       "                                      timeKeys  \\\n",
       "1                                         ساعت   \n",
       "2       شب - روز - ساعت - اختلاف زمانی - الان    \n",
       "3                                      ۲۳ - ۲۳   \n",
       "4  اختلاف - ایران - ترکیه - امروز - سال - ۱۴۰۰   \n",
       "5                             الان- زمان- ساعت   \n",
       "\n",
       "                                            calnedar  \\\n",
       "1                         میلاد پیامبر چه زمانی است؟   \n",
       "2  امروز چندمه؟\\nچند روز مونده تا عید؟\\nوقت دکترت...   \n",
       "3                                     چهارشنبه ۸ آذر   \n",
       "4  تاریخ وفات امام خمینی(ره) چه است؟\\nتاریخ پیروز...   \n",
       "5  امروز چندم ماه است؟\\nاین ماه چند روز دارد؟\\nتا...   \n",
       "\n",
       "                                        calendarKeys  \n",
       "1                              میلاد - پیامبر - زمان  \n",
       "2                     چند شنبه-تعطیلی-روز-چندمه؟-وقت  \n",
       "3                                          ۴ - ۸ - ۹  \n",
       "4  وفات - خمینی - تاریخ - شاه - خامنه‌ای - رهبر -...  \n",
       "5                                   ماه- چندم- تاریخ  "
      ]
     },
     "execution_count": 22,
     "metadata": {
      "tags": []
     },
     "output_type": "execute_result"
    }
   ],
   "source": [
    "answers.head()"
   ]
  },
  {
   "cell_type": "code",
   "execution_count": null,
   "metadata": {
    "id": "PwdB9dyEBEgs"
   },
   "outputs": [],
   "source": [
    "weather = answers['weather']"
   ]
  },
  {
   "cell_type": "code",
   "execution_count": null,
   "metadata": {
    "id": "Z-8K7G_sBEgt"
   },
   "outputs": [],
   "source": [
    "def clean_data (series) :\n",
    "    final = []\n",
    "    for elem in series : \n",
    "        try : \n",
    "            sents = elem.split('؟')\n",
    "        except : \n",
    "            print(\"problem splitting data : \" + str(elem))\n",
    "        for sent in sents :\n",
    "            sent = sent.replace('!', '').replace('//' , '').replace('/', '').replace(',', '').replace('-', '').strip()\n",
    "            if(sent != \"\"):\n",
    "                final.append(sent.strip('/n'))\n",
    "                \n",
    "    return final"
   ]
  },
  {
   "cell_type": "code",
   "execution_count": null,
   "metadata": {
    "id": "NVTHUezKBEgu",
    "outputId": "14988c48-e933-420e-8ba5-db6d47e19dc7"
   },
   "outputs": [
    {
     "name": "stdout",
     "output_type": "stream",
     "text": [
      "problem splitting data : nan\n",
      "problem splitting data : nan\n",
      "problem splitting data : nan\n",
      "problem splitting data : nan\n",
      "problem splitting data : nan\n"
     ]
    }
   ],
   "source": [
    "final_weather = clean_data(weather)"
   ]
  },
  {
   "cell_type": "code",
   "execution_count": null,
   "metadata": {
    "id": "c6pt8T9lBEgu"
   },
   "outputs": [],
   "source": [
    "shari = answers['shari']"
   ]
  },
  {
   "cell_type": "code",
   "execution_count": null,
   "metadata": {
    "id": "aVlG8KVKBEgv",
    "outputId": "63f53372-50fb-44c9-c033-ea603e2912de"
   },
   "outputs": [
    {
     "name": "stdout",
     "output_type": "stream",
     "text": [
      "problem splitting data : nan\n",
      "problem splitting data : nan\n",
      "problem splitting data : nan\n",
      "problem splitting data : nan\n",
      "problem splitting data : nan\n",
      "problem splitting data : nan\n",
      "problem splitting data : nan\n",
      "problem splitting data : nan\n",
      "problem splitting data : nan\n"
     ]
    }
   ],
   "source": [
    "final_shari = clean_data(shari)"
   ]
  },
  {
   "cell_type": "code",
   "execution_count": null,
   "metadata": {
    "id": "4PNNgUxWBEgx"
   },
   "outputs": [],
   "source": [
    "time = answers['time']"
   ]
  },
  {
   "cell_type": "code",
   "execution_count": null,
   "metadata": {
    "id": "q2FK4DOMBEgy",
    "outputId": "8c5adff7-b8b9-4d24-a17b-e81b729fce7d"
   },
   "outputs": [
    {
     "name": "stdout",
     "output_type": "stream",
     "text": [
      "problem splitting data : nan\n",
      "problem splitting data : nan\n",
      "problem splitting data : nan\n",
      "problem splitting data : nan\n",
      "problem splitting data : nan\n",
      "problem splitting data : nan\n",
      "problem splitting data : nan\n",
      "problem splitting data : nan\n",
      "problem splitting data : nan\n",
      "problem splitting data : nan\n"
     ]
    }
   ],
   "source": [
    "final_time = clean_data(time)"
   ]
  },
  {
   "cell_type": "code",
   "execution_count": null,
   "metadata": {
    "id": "df1VqwEMBEgz"
   },
   "outputs": [],
   "source": [
    "calendar = answers['calnedar']"
   ]
  },
  {
   "cell_type": "code",
   "execution_count": null,
   "metadata": {
    "id": "D-ddScZcBEgz",
    "outputId": "73ada216-81fe-468f-f3f7-e0335344cd6d"
   },
   "outputs": [
    {
     "name": "stdout",
     "output_type": "stream",
     "text": [
      "problem splitting data : nan\n",
      "problem splitting data : nan\n",
      "problem splitting data : nan\n",
      "problem splitting data : nan\n",
      "problem splitting data : nan\n",
      "problem splitting data : nan\n",
      "problem splitting data : nan\n",
      "problem splitting data : nan\n",
      "problem splitting data : nan\n",
      "problem splitting data : nan\n"
     ]
    }
   ],
   "source": [
    "final_calendar = clean_data(calendar)"
   ]
  },
  {
   "cell_type": "code",
   "execution_count": null,
   "metadata": {
    "id": "oOy9g53OBEg0"
   },
   "outputs": [],
   "source": [
    "classes  =    [1] * len(final_weather)"
   ]
  },
  {
   "cell_type": "code",
   "execution_count": null,
   "metadata": {
    "id": "5VFxL8U1BEg0"
   },
   "outputs": [],
   "source": [
    "classes.extend([2] * len(final_shari))\n",
    "classes.extend([3] * len(final_time))\n",
    "classes.extend([4] * len(final_calendar))"
   ]
  },
  {
   "cell_type": "code",
   "execution_count": null,
   "metadata": {
    "id": "8A9FUaQ6BEg1"
   },
   "outputs": [],
   "source": [
    "final_weather.extend(final_shari)\n",
    "final_weather.extend(final_time)\n",
    "final_weather.extend(final_calendar)"
   ]
  },
  {
   "cell_type": "code",
   "execution_count": null,
   "metadata": {
    "id": "-NblHXHnBEg1"
   },
   "outputs": [],
   "source": [
    "data = final_weather"
   ]
  },
  {
   "cell_type": "code",
   "execution_count": null,
   "metadata": {
    "id": "EjD2Vhr8BEg1"
   },
   "outputs": [],
   "source": [
    "d = {'sentense' : data,\n",
    "     'class'    : classes}"
   ]
  },
  {
   "cell_type": "code",
   "execution_count": null,
   "metadata": {
    "id": "bMd6zN3rBEg2"
   },
   "outputs": [],
   "source": [
    "df = pd.DataFrame(d)"
   ]
  },
  {
   "cell_type": "code",
   "execution_count": null,
   "metadata": {
    "id": "-k_EsfNtBEg-"
   },
   "outputs": [],
   "source": [
    "df.to_csv('answers_clean.csv')"
   ]
  },
  {
   "cell_type": "code",
   "execution_count": null,
   "metadata": {
    "id": "sWApOhD1BEg_"
   },
   "outputs": [],
   "source": []
  }
 ],
 "metadata": {
  "colab": {
   "name": "cleaning form answers.ipynb",
   "provenance": []
  },
  "kernelspec": {
   "display_name": "Python 3",
   "language": "python",
   "name": "python3"
  },
  "language_info": {
   "codemirror_mode": {
    "name": "ipython",
    "version": 3
   },
   "file_extension": ".py",
   "mimetype": "text/x-python",
   "name": "python",
   "nbconvert_exporter": "python",
   "pygments_lexer": "ipython3",
   "version": "3.8.5"
  }
 },
 "nbformat": 4,
 "nbformat_minor": 1
}
