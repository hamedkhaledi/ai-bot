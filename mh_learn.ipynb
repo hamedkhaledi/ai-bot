{
 "cells": [
  {
   "cell_type": "code",
   "execution_count": 1,
   "metadata": {
    "ExecuteTime": {
     "end_time": "2020-12-25T08:46:24.872206Z",
     "start_time": "2020-12-25T08:46:21.016036Z"
    }
   },
   "outputs": [],
   "source": [
    "import numpy as np\n",
    "import pandas as pd\n",
    "from rule_based import total_score"
   ]
  },
  {
   "cell_type": "code",
   "execution_count": 2,
   "metadata": {
    "ExecuteTime": {
     "end_time": "2020-12-25T08:46:25.928831Z",
     "start_time": "2020-12-25T08:46:25.923314Z"
    }
   },
   "outputs": [],
   "source": [
    "mapping = {0: \"weather\", 1: \"religious time\", 2: \"time\", 3: \"date\", 4: \"unknown\"}"
   ]
  },
  {
   "cell_type": "code",
   "execution_count": 3,
   "metadata": {
    "ExecuteTime": {
     "end_time": "2020-12-25T08:46:26.534811Z",
     "start_time": "2020-12-25T08:46:26.495065Z"
    }
   },
   "outputs": [
    {
     "data": {
      "text/html": [
       "<div>\n",
       "<style scoped>\n",
       "    .dataframe tbody tr th:only-of-type {\n",
       "        vertical-align: middle;\n",
       "    }\n",
       "\n",
       "    .dataframe tbody tr th {\n",
       "        vertical-align: top;\n",
       "    }\n",
       "\n",
       "    .dataframe thead th {\n",
       "        text-align: right;\n",
       "    }\n",
       "</style>\n",
       "<table border=\"1\" class=\"dataframe\">\n",
       "  <thead>\n",
       "    <tr style=\"text-align: right;\">\n",
       "      <th></th>\n",
       "      <th>sentence</th>\n",
       "      <th>class</th>\n",
       "    </tr>\n",
       "  </thead>\n",
       "  <tbody>\n",
       "    <tr>\n",
       "      <th>0</th>\n",
       "      <td>آیا فردا هوا ابری است</td>\n",
       "      <td>0</td>\n",
       "    </tr>\n",
       "    <tr>\n",
       "      <th>1</th>\n",
       "      <td>هوا فردا آلودست</td>\n",
       "      <td>0</td>\n",
       "    </tr>\n",
       "    <tr>\n",
       "      <th>2</th>\n",
       "      <td>شاخص آلودگی چنده</td>\n",
       "      <td>0</td>\n",
       "    </tr>\n",
       "    <tr>\n",
       "      <th>3</th>\n",
       "      <td>یعنی فردا بارون میباره</td>\n",
       "      <td>0</td>\n",
       "    </tr>\n",
       "    <tr>\n",
       "      <th>4</th>\n",
       "      <td>پس کی برف میباره</td>\n",
       "      <td>0</td>\n",
       "    </tr>\n",
       "    <tr>\n",
       "      <th>...</th>\n",
       "      <td>...</td>\n",
       "      <td>...</td>\n",
       "    </tr>\n",
       "    <tr>\n",
       "      <th>904</th>\n",
       "      <td>تقویم چه کشورایی با خورشید تنظیم نشده</td>\n",
       "      <td>4</td>\n",
       "    </tr>\n",
       "    <tr>\n",
       "      <th>905</th>\n",
       "      <td>ماه گرد نامزدی هم جشن میگیرن</td>\n",
       "      <td>4</td>\n",
       "    </tr>\n",
       "    <tr>\n",
       "      <th>906</th>\n",
       "      <td>چندم میرسی مشتی</td>\n",
       "      <td>4</td>\n",
       "    </tr>\n",
       "    <tr>\n",
       "      <th>907</th>\n",
       "      <td>دوست دارم یه بار روز جهانی بدون سوتین رو جشن ب...</td>\n",
       "      <td>4</td>\n",
       "    </tr>\n",
       "    <tr>\n",
       "      <th>908</th>\n",
       "      <td>چرا نصف سپتامبر شهریوره نصف دیگش مهره</td>\n",
       "      <td>4</td>\n",
       "    </tr>\n",
       "  </tbody>\n",
       "</table>\n",
       "<p>909 rows × 2 columns</p>\n",
       "</div>"
      ],
      "text/plain": [
       "                                              sentence  class\n",
       "0                                آیا فردا هوا ابری است      0\n",
       "1                                      هوا فردا آلودست      0\n",
       "2                                     شاخص آلودگی چنده      0\n",
       "3                               یعنی فردا بارون میباره      0\n",
       "4                                     پس کی برف میباره      0\n",
       "..                                                 ...    ...\n",
       "904              تقویم چه کشورایی با خورشید تنظیم نشده      4\n",
       "905                       ماه گرد نامزدی هم جشن میگیرن      4\n",
       "906                                    چندم میرسی مشتی      4\n",
       "907  دوست دارم یه بار روز جهانی بدون سوتین رو جشن ب...      4\n",
       "908              چرا نصف سپتامبر شهریوره نصف دیگش مهره      4\n",
       "\n",
       "[909 rows x 2 columns]"
      ]
     },
     "execution_count": 3,
     "metadata": {},
     "output_type": "execute_result"
    }
   ],
   "source": [
    "df = pd.read_csv(\"mh_clean.csv\", index_col=0)\n",
    "df"
   ]
  },
  {
   "cell_type": "code",
   "execution_count": 4,
   "metadata": {
    "ExecuteTime": {
     "end_time": "2020-12-25T08:46:32.021840Z",
     "start_time": "2020-12-25T08:46:32.014568Z"
    }
   },
   "outputs": [],
   "source": [
    "from sklearn.model_selection import train_test_split\n",
    "\n",
    "x = df[\"sentence\"].values\n",
    "y = df[\"class\"].values\n",
    "x_train, x_test, y_train, y_test = train_test_split(x, y, test_size=0.25, random_state = 42)"
   ]
  },
  {
   "cell_type": "code",
   "execution_count": 5,
   "metadata": {
    "ExecuteTime": {
     "end_time": "2020-12-25T08:46:37.576369Z",
     "start_time": "2020-12-25T08:46:32.323934Z"
    }
   },
   "outputs": [],
   "source": [
    "from keras.preprocessing.text import Tokenizer\n",
    "\n",
    "tokenizer = Tokenizer()\n",
    "tokenizer.fit_on_texts(x)"
   ]
  },
  {
   "cell_type": "code",
   "execution_count": 6,
   "metadata": {
    "ExecuteTime": {
     "end_time": "2020-12-25T08:46:37.590687Z",
     "start_time": "2020-12-25T08:46:37.580245Z"
    }
   },
   "outputs": [],
   "source": [
    "maxlen = max([len(s.split()) for s in x])"
   ]
  },
  {
   "cell_type": "code",
   "execution_count": 7,
   "metadata": {
    "ExecuteTime": {
     "end_time": "2020-12-25T08:46:37.618720Z",
     "start_time": "2020-12-25T08:46:37.594308Z"
    }
   },
   "outputs": [],
   "source": [
    "from tensorflow.keras.preprocessing.sequence import pad_sequences\n",
    "\n",
    "enc_docs = tokenizer.texts_to_sequences(x_train)\n",
    "Xtrain = pad_sequences(enc_docs, maxlen=maxlen, padding='post')"
   ]
  },
  {
   "cell_type": "code",
   "execution_count": 8,
   "metadata": {
    "ExecuteTime": {
     "end_time": "2020-12-25T08:46:37.636412Z",
     "start_time": "2020-12-25T08:46:37.622240Z"
    }
   },
   "outputs": [],
   "source": [
    "enc_docs = tokenizer.texts_to_sequences(x_test)\n",
    "Xtest = pad_sequences(enc_docs, maxlen=maxlen, padding='post')"
   ]
  },
  {
   "cell_type": "code",
   "execution_count": 9,
   "metadata": {
    "ExecuteTime": {
     "end_time": "2020-12-25T08:46:37.645692Z",
     "start_time": "2020-12-25T08:46:37.640803Z"
    }
   },
   "outputs": [],
   "source": [
    "vocab_size = len(tokenizer.word_index) + 1"
   ]
  },
  {
   "cell_type": "code",
   "execution_count": 45,
   "metadata": {
    "ExecuteTime": {
     "end_time": "2020-12-25T08:55:25.926710Z",
     "start_time": "2020-12-25T08:55:25.835797Z"
    }
   },
   "outputs": [
    {
     "name": "stdout",
     "output_type": "stream",
     "text": [
      "Model: \"sequential_2\"\n",
      "_________________________________________________________________\n",
      "Layer (type)                 Output Shape              Param #   \n",
      "=================================================================\n",
      "embedding_2 (Embedding)      (None, 28, 100)           108500    \n",
      "_________________________________________________________________\n",
      "conv1d_2 (Conv1D)            (None, 13, 32)            51232     \n",
      "_________________________________________________________________\n",
      "max_pooling1d_2 (MaxPooling1 (None, 6, 32)             0         \n",
      "_________________________________________________________________\n",
      "flatten_2 (Flatten)          (None, 192)               0         \n",
      "_________________________________________________________________\n",
      "dense_5 (Dense)              (None, 10)                1930      \n",
      "_________________________________________________________________\n",
      "dense_6 (Dense)              (None, 5)                 55        \n",
      "=================================================================\n",
      "Total params: 161,717\n",
      "Trainable params: 161,717\n",
      "Non-trainable params: 0\n",
      "_________________________________________________________________\n",
      "None\n"
     ]
    }
   ],
   "source": [
    "from tensorflow.keras.models import Sequential\n",
    "from tensorflow.keras.layers import Embedding, Conv1D, MaxPooling1D, Flatten, Dense\n",
    "\n",
    "model = Sequential()\n",
    "model.add(Embedding(vocab_size, 100, input_length=maxlen))\n",
    "model.add(Conv1D(filters=32, kernel_size=16, activation='relu'))\n",
    "model.add(MaxPooling1D(pool_size=2))\n",
    "model.add(Flatten())\n",
    "# model.add(Dense(10, activation='relu'))\n",
    "model.add(Dense(10, activation='relu'))\n",
    "model.add(Dense(5, activation='sigmoid'))\n",
    "print(model.summary())"
   ]
  },
  {
   "cell_type": "code",
   "execution_count": 46,
   "metadata": {
    "ExecuteTime": {
     "end_time": "2020-12-25T08:55:30.486702Z",
     "start_time": "2020-12-25T08:55:26.163444Z"
    },
    "scrolled": true
   },
   "outputs": [
    {
     "name": "stdout",
     "output_type": "stream",
     "text": [
      "Epoch 1/15\n",
      "22/22 [==============================] - 0s 9ms/step - loss: 1.6092 - accuracy: 0.2188\n",
      "Epoch 2/15\n",
      "22/22 [==============================] - 0s 10ms/step - loss: 1.6071 - accuracy: 0.2643\n",
      "Epoch 3/15\n",
      "22/22 [==============================] - 0s 9ms/step - loss: 1.6048 - accuracy: 0.2731\n",
      "Epoch 4/15\n",
      "22/22 [==============================] - 0s 9ms/step - loss: 1.5999 - accuracy: 0.2893\n",
      "Epoch 5/15\n",
      "22/22 [==============================] - 0s 9ms/step - loss: 1.5692 - accuracy: 0.3495\n",
      "Epoch 6/15\n",
      "22/22 [==============================] - 0s 10ms/step - loss: 1.4708 - accuracy: 0.3891\n",
      "Epoch 7/15\n",
      "22/22 [==============================] - 0s 10ms/step - loss: 1.1994 - accuracy: 0.4420\n",
      "Epoch 8/15\n",
      "22/22 [==============================] - 0s 11ms/step - loss: 0.7858 - accuracy: 0.6740\n",
      "Epoch 9/15\n",
      "22/22 [==============================] - 0s 11ms/step - loss: 0.5620 - accuracy: 0.7915\n",
      "Epoch 10/15\n",
      "22/22 [==============================] - 0s 11ms/step - loss: 0.4147 - accuracy: 0.8634\n",
      "Epoch 11/15\n",
      "22/22 [==============================] - 0s 10ms/step - loss: 0.3478 - accuracy: 0.8899\n",
      "Epoch 12/15\n",
      "22/22 [==============================] - 0s 9ms/step - loss: 0.2824 - accuracy: 0.9339\n",
      "Epoch 13/15\n",
      "22/22 [==============================] - 0s 9ms/step - loss: 0.2180 - accuracy: 0.9604\n",
      "Epoch 14/15\n",
      "22/22 [==============================] - 0s 9ms/step - loss: 0.1700 - accuracy: 0.9677\n",
      "Epoch 15/15\n",
      "22/22 [==============================] - 0s 9ms/step - loss: 0.1277 - accuracy: 0.9765\n"
     ]
    },
    {
     "data": {
      "text/plain": [
       "<tensorflow.python.keras.callbacks.History at 0x7fd9880d3100>"
      ]
     },
     "execution_count": 46,
     "metadata": {},
     "output_type": "execute_result"
    }
   ],
   "source": [
    "model.compile(loss='sparse_categorical_crossentropy', optimizer='adam', metrics=['accuracy'])\n",
    "model.fit(Xtrain, y_train, epochs=15)"
   ]
  },
  {
   "cell_type": "code",
   "execution_count": 47,
   "metadata": {
    "ExecuteTime": {
     "end_time": "2020-12-25T08:55:30.795676Z",
     "start_time": "2020-12-25T08:55:30.491101Z"
    },
    "scrolled": true
   },
   "outputs": [
    {
     "name": "stdout",
     "output_type": "stream",
     "text": [
      "8/8 [==============================] - 0s 3ms/step - loss: 0.6583 - accuracy: 0.8202\n"
     ]
    },
    {
     "data": {
      "text/plain": [
       "[0.6583083271980286, 0.8201754093170166]"
      ]
     },
     "execution_count": 47,
     "metadata": {},
     "output_type": "execute_result"
    }
   ],
   "source": [
    "model.evaluate(Xtest, y_test)"
   ]
  },
  {
   "cell_type": "code",
   "execution_count": 102,
   "metadata": {
    "ExecuteTime": {
     "end_time": "2020-12-25T09:27:25.528570Z",
     "start_time": "2020-12-25T09:27:25.515658Z"
    }
   },
   "outputs": [],
   "source": [
    "def predict(sent: str) -> int:\n",
    "    enc_docs = tokenizer.texts_to_sequences(np.array([sent]))\n",
    "    s = pad_sequences(enc_docs, maxlen=maxlen, padding='post')\n",
    "    pred = model.predict(s)\n",
    "    ind = np.argpartition(pred, -2)[-2:].flatten().tolist()\n",
    "    ind.reverse()\n",
    "\n",
    "    print(f\"The first predicted class: {mapping[ind[0]]}\")\n",
    "    print(f\"The second predicted class: {mapping[ind[1]]}\")\n",
    "    \n",
    "    sc = total_score(sent)\n",
    "    sc[4] = 0\n",
    "    print(sc)\n",
    "    \n",
    "    if sc[ind[0]] >= 2 and sc[ind[1]] <= 2:\n",
    "        return mapping[ind[0]]\n",
    "    elif abs(sc[ind[0]] - sc[ind[1]]) <= 2:\n",
    "        return mapping[ind[0]]  # CHECK THIS PLEASE\n",
    "    elif ind[0] == 4 and max(list(sc.values())) <= 2 and sc[ind[1]] != 2:\n",
    "        return 'unknown'\n",
    "    # HANDLE NN BEING RIGHT AND RULE-BASED BEING WRONG\n",
    "    else:\n",
    "        return mapping[ind[0]]"
   ]
  },
  {
   "cell_type": "code",
   "execution_count": 103,
   "metadata": {
    "ExecuteTime": {
     "end_time": "2020-12-25T09:27:25.756454Z",
     "start_time": "2020-12-25T09:27:25.747971Z"
    }
   },
   "outputs": [],
   "source": [
    "sent = \"برف سالگرد رحلت امام بیشتر بود یا دیروز؟\""
   ]
  },
  {
   "cell_type": "code",
   "execution_count": 104,
   "metadata": {
    "ExecuteTime": {
     "end_time": "2020-12-25T09:27:25.983012Z",
     "start_time": "2020-12-25T09:27:25.896379Z"
    }
   },
   "outputs": [
    {
     "name": "stdout",
     "output_type": "stream",
     "text": [
      "The first predicted class: weather\n",
      "The second predicted class: date\n",
      "{0: 2, 1: 0, 2: 0, 3: 8, 4: 0}\n"
     ]
    },
    {
     "data": {
      "text/plain": [
       "'weather'"
      ]
     },
     "execution_count": 104,
     "metadata": {},
     "output_type": "execute_result"
    }
   ],
   "source": [
    "predict(sent)"
   ]
  },
  {
   "cell_type": "code",
   "execution_count": null,
   "metadata": {},
   "outputs": [],
   "source": []
  },
  {
   "cell_type": "code",
   "execution_count": null,
   "metadata": {},
   "outputs": [],
   "source": []
  },
  {
   "cell_type": "code",
   "execution_count": 110,
   "metadata": {
    "ExecuteTime": {
     "end_time": "2020-12-24T16:18:01.271926Z",
     "start_time": "2020-12-24T16:18:01.240501Z"
    }
   },
   "outputs": [],
   "source": [
    "from sklearn.feature_extraction.text import CountVectorizer\n",
    "\n",
    "vec = CountVectorizer()\n",
    "vec.fit(x_train)\n",
    "x_train = vec.transform(x_train)\n",
    "x_test = vec.transform(x_test)"
   ]
  },
  {
   "cell_type": "code",
   "execution_count": 111,
   "metadata": {
    "ExecuteTime": {
     "end_time": "2020-12-24T16:18:04.872002Z",
     "start_time": "2020-12-24T16:18:01.961561Z"
    },
    "scrolled": true
   },
   "outputs": [
    {
     "name": "stdout",
     "output_type": "stream",
     "text": [
      "Epoch 1/15\n",
      "43/43 [==============================] - 0s 3ms/step - loss: 1.5709 - accuracy: 0.2643\n",
      "Epoch 2/15\n",
      "43/43 [==============================] - 0s 3ms/step - loss: 1.2988 - accuracy: 0.4156\n",
      "Epoch 3/15\n",
      "43/43 [==============================] - 0s 3ms/step - loss: 0.7523 - accuracy: 0.8076\n",
      "Epoch 4/15\n",
      "43/43 [==============================] - 0s 3ms/step - loss: 0.2732 - accuracy: 0.9280\n",
      "Epoch 5/15\n",
      "43/43 [==============================] - 0s 3ms/step - loss: 0.1306 - accuracy: 0.9765\n",
      "Epoch 6/15\n",
      "43/43 [==============================] - 0s 3ms/step - loss: 0.0656 - accuracy: 0.9883\n",
      "Epoch 7/15\n",
      "43/43 [==============================] - 0s 2ms/step - loss: 0.0422 - accuracy: 0.9927\n",
      "Epoch 8/15\n",
      "43/43 [==============================] - 0s 3ms/step - loss: 0.0305 - accuracy: 0.9912\n",
      "Epoch 9/15\n",
      "43/43 [==============================] - 0s 3ms/step - loss: 0.0251 - accuracy: 0.9941\n",
      "Epoch 10/15\n",
      "43/43 [==============================] - 0s 3ms/step - loss: 0.0230 - accuracy: 0.9941\n",
      "Epoch 11/15\n",
      "43/43 [==============================] - 0s 4ms/step - loss: 0.0218 - accuracy: 0.9883\n",
      "Epoch 12/15\n",
      "43/43 [==============================] - 0s 3ms/step - loss: 0.0224 - accuracy: 0.9927\n",
      "Epoch 13/15\n",
      "43/43 [==============================] - 0s 2ms/step - loss: 0.0203 - accuracy: 0.9927\n",
      "Epoch 14/15\n",
      "43/43 [==============================] - 0s 3ms/step - loss: 0.0140 - accuracy: 0.9956\n",
      "Epoch 15/15\n",
      "43/43 [==============================] - 0s 3ms/step - loss: 0.0158 - accuracy: 0.9941\n"
     ]
    },
    {
     "data": {
      "text/plain": [
       "<tensorflow.python.keras.callbacks.History at 0x7ff58a2574f0>"
      ]
     },
     "execution_count": 111,
     "metadata": {},
     "output_type": "execute_result"
    }
   ],
   "source": [
    "from tensorflow.keras.models import Sequential\n",
    "from tensorflow.keras.layers import Dense\n",
    "from tensorflow.keras.optimizers import Adam\n",
    "\n",
    "model = Sequential()\n",
    "model.add(Dense(64, input_dim=x_train.shape[1], activation='relu'))\n",
    "model.add(Dense(64, activation='relu'))\n",
    "model.add(Dense(32, activation='relu'))\n",
    "model.add(Dense(16, activation='relu'))\n",
    "model.add(Dense(5, activation='sigmoid'))\n",
    "model.compile(loss=\"sparse_categorical_crossentropy\",\n",
    "              optimizer='adam', metrics=['accuracy'])\n",
    "model.fit(x_train, y_train, batch_size=16, epochs=15)"
   ]
  },
  {
   "cell_type": "code",
   "execution_count": 112,
   "metadata": {
    "ExecuteTime": {
     "end_time": "2020-12-24T16:18:05.503148Z",
     "start_time": "2020-12-24T16:18:05.293120Z"
    }
   },
   "outputs": [
    {
     "name": "stdout",
     "output_type": "stream",
     "text": [
      "8/8 [==============================] - 0s 2ms/step - loss: 0.7059 - accuracy: 0.8333\n"
     ]
    }
   ],
   "source": [
    "score = model.evaluate(x_test, y_test)"
   ]
  },
  {
   "cell_type": "code",
   "execution_count": 120,
   "metadata": {
    "ExecuteTime": {
     "end_time": "2020-12-24T16:18:40.893182Z",
     "start_time": "2020-12-24T16:18:40.885318Z"
    }
   },
   "outputs": [],
   "source": [
    "from sklearn.feature_extraction.text import CountVectorizer\n",
    "\n",
    "sent = np.array([\"امروز چه مناسبی داریم؟\"])\n",
    "vec = CountVectorizer()\n",
    "vec.fit(sent)\n",
    "sent = vec.transform(sent)"
   ]
  },
  {
   "cell_type": "code",
   "execution_count": 121,
   "metadata": {
    "ExecuteTime": {
     "end_time": "2020-12-24T16:18:41.338266Z",
     "start_time": "2020-12-24T16:18:41.331147Z"
    }
   },
   "outputs": [
    {
     "data": {
      "text/plain": [
       "<1x4 sparse matrix of type '<class 'numpy.int64'>'\n",
       "\twith 4 stored elements in Compressed Sparse Row format>"
      ]
     },
     "execution_count": 121,
     "metadata": {},
     "output_type": "execute_result"
    }
   ],
   "source": [
    "sent"
   ]
  },
  {
   "cell_type": "code",
   "execution_count": 123,
   "metadata": {
    "ExecuteTime": {
     "end_time": "2020-12-24T16:19:24.817301Z",
     "start_time": "2020-12-24T16:19:24.776236Z"
    }
   },
   "outputs": [
    {
     "data": {
      "text/plain": [
       "array([[8.32831483e-06, 3.53544950e-04, 5.14000654e-04, 7.32241631e-07,\n",
       "        4.29838896e-04],\n",
       "       [1.60789490e-03, 9.08839356e-05, 1.76593661e-03, 2.26557255e-04,\n",
       "        5.03525138e-03],\n",
       "       [2.46572185e-08, 2.99583077e-02, 3.48827743e-05, 5.59064347e-07,\n",
       "        9.87519888e-06],\n",
       "       ...,\n",
       "       [5.14230815e-05, 2.21431255e-04, 8.18222761e-04, 1.74521804e-02,\n",
       "        1.21080875e-03],\n",
       "       [6.27995729e-02, 1.21861277e-09, 1.24441357e-07, 1.80661210e-08,\n",
       "        7.68125057e-04],\n",
       "       [1.09369694e-07, 6.91767871e-01, 2.21032533e-05, 2.97554067e-07,\n",
       "        1.83314085e-04]], dtype=float32)"
      ]
     },
     "execution_count": 123,
     "metadata": {},
     "output_type": "execute_result"
    }
   ],
   "source": [
    "model.predict(x_test)"
   ]
  },
  {
   "cell_type": "code",
   "execution_count": null,
   "metadata": {},
   "outputs": [],
   "source": []
  },
  {
   "cell_type": "code",
   "execution_count": 81,
   "metadata": {
    "ExecuteTime": {
     "end_time": "2020-12-24T15:58:16.470415Z",
     "start_time": "2020-12-24T15:58:16.462302Z"
    }
   },
   "outputs": [],
   "source": [
    "from sklearn.model_selection import train_test_split\n",
    "\n",
    "x = df[\"sentence\"].values\n",
    "y = df[\"class\"].values\n",
    "x_train, x_test, y_train, y_test = train_test_split(x, y, test_size=0.33, random_state = 42)"
   ]
  },
  {
   "cell_type": "code",
   "execution_count": 82,
   "metadata": {
    "ExecuteTime": {
     "end_time": "2020-12-24T15:58:16.637770Z",
     "start_time": "2020-12-24T15:58:16.608276Z"
    }
   },
   "outputs": [],
   "source": [
    "from sklearn.feature_extraction.text import TfidfVectorizer\n",
    "\n",
    "vec = TfidfVectorizer()\n",
    "vec.fit(x_train)\n",
    "x_train = vec.transform(x_train)\n",
    "x_test = vec.transform(x_test)"
   ]
  },
  {
   "cell_type": "code",
   "execution_count": 83,
   "metadata": {
    "ExecuteTime": {
     "end_time": "2020-12-24T15:58:16.857491Z",
     "start_time": "2020-12-24T15:58:16.759646Z"
    }
   },
   "outputs": [
    {
     "data": {
      "text/plain": [
       "0.85"
      ]
     },
     "execution_count": 83,
     "metadata": {},
     "output_type": "execute_result"
    }
   ],
   "source": [
    "from sklearn.linear_model import LogisticRegression\n",
    "from sklearn.metrics import accuracy_score\n",
    "\n",
    "lr = LogisticRegression()\n",
    "lr.fit(x_train, y_train)\n",
    "accuracy_score(y_test, lr.predict(x_test))"
   ]
  },
  {
   "cell_type": "code",
   "execution_count": null,
   "metadata": {},
   "outputs": [],
   "source": []
  }
 ],
 "metadata": {
  "kernelspec": {
   "display_name": "Python 3",
   "language": "python",
   "name": "python3"
  },
  "language_info": {
   "codemirror_mode": {
    "name": "ipython",
    "version": 3
   },
   "file_extension": ".py",
   "mimetype": "text/x-python",
   "name": "python",
   "nbconvert_exporter": "python",
   "pygments_lexer": "ipython3",
   "version": "3.8.5"
  }
 },
 "nbformat": 4,
 "nbformat_minor": 4
}
