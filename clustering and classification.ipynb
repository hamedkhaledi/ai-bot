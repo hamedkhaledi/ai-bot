{
 "cells": [
  {
   "cell_type": "code",
   "execution_count": 2,
   "metadata": {
    "ExecuteTime": {
     "end_time": "2020-12-24T15:15:03.326039Z",
     "start_time": "2020-12-24T15:15:03.319082Z"
    }
   },
   "outputs": [],
   "source": [
    "import pandas as pd\n",
    "import numpy as np\n",
    "from sklearn.cluster import KMeans\n",
    "from sklearn.cluster import AffinityPropagation\n",
    "from sklearn.decomposition import PCA\n",
    "from sklearn.naive_bayes import GaussianNB\n",
    "from sklearn.model_selection import train_test_split\n",
    "from sklearn.feature_selection import SelectKBest, chi2\n",
    "from sklearn.svm import SVC\n",
    "from sklearn.tree import DecisionTreeClassifier\n",
    "from sklearn.ensemble import RandomForestClassifier\n",
    "from sklearn.linear_model import LogisticRegression\n",
    "from sklearn.ensemble import GradientBoostingClassifier\n",
    "from sklearn.model_selection import GridSearchCV\n",
    "from rule_based import total_score"
   ]
  },
  {
   "cell_type": "markdown",
   "metadata": {},
   "source": [
    "# data"
   ]
  },
  {
   "cell_type": "code",
   "execution_count": 63,
   "metadata": {
    "ExecuteTime": {
     "end_time": "2020-12-24T15:19:54.216962Z",
     "start_time": "2020-12-24T15:19:54.195608Z"
    }
   },
   "outputs": [],
   "source": [
    "tf_idf = pd.read_csv(\"tf_idf_padded.csv\", index_col = 0)\n",
    "answers = pd.read_csv('answers_clean.csv', index_col = 0)"
   ]
  },
  {
   "cell_type": "code",
   "execution_count": 64,
   "metadata": {
    "ExecuteTime": {
     "end_time": "2020-12-24T15:19:55.415752Z",
     "start_time": "2020-12-24T15:19:55.361331Z"
    }
   },
   "outputs": [
    {
     "data": {
      "text/html": [
       "<div>\n",
       "<style scoped>\n",
       "    .dataframe tbody tr th:only-of-type {\n",
       "        vertical-align: middle;\n",
       "    }\n",
       "\n",
       "    .dataframe tbody tr th {\n",
       "        vertical-align: top;\n",
       "    }\n",
       "\n",
       "    .dataframe thead th {\n",
       "        text-align: right;\n",
       "    }\n",
       "</style>\n",
       "<table border=\"1\" class=\"dataframe\">\n",
       "  <thead>\n",
       "    <tr style=\"text-align: right;\">\n",
       "      <th></th>\n",
       "      <th>sentense</th>\n",
       "      <th>class</th>\n",
       "      <th>0</th>\n",
       "      <th>1</th>\n",
       "      <th>2</th>\n",
       "      <th>3</th>\n",
       "      <th>4</th>\n",
       "      <th>5</th>\n",
       "      <th>6</th>\n",
       "      <th>7</th>\n",
       "      <th>...</th>\n",
       "      <th>17</th>\n",
       "      <th>18</th>\n",
       "      <th>19</th>\n",
       "      <th>20</th>\n",
       "      <th>21</th>\n",
       "      <th>22</th>\n",
       "      <th>23</th>\n",
       "      <th>24</th>\n",
       "      <th>25</th>\n",
       "      <th>26</th>\n",
       "    </tr>\n",
       "  </thead>\n",
       "  <tbody>\n",
       "    <tr>\n",
       "      <th>1001</th>\n",
       "      <td>روز معلم چه تاریخی است</td>\n",
       "      <td>4</td>\n",
       "      <td>0.728783</td>\n",
       "      <td>2.073530</td>\n",
       "      <td>1.537051</td>\n",
       "      <td>0.0</td>\n",
       "      <td>0.0</td>\n",
       "      <td>0.0</td>\n",
       "      <td>0.0</td>\n",
       "      <td>0.0</td>\n",
       "      <td>...</td>\n",
       "      <td>0.0</td>\n",
       "      <td>0.0</td>\n",
       "      <td>0.0</td>\n",
       "      <td>0.0</td>\n",
       "      <td>0.0</td>\n",
       "      <td>0.0</td>\n",
       "      <td>0.0</td>\n",
       "      <td>0.0</td>\n",
       "      <td>0.0</td>\n",
       "      <td>0.0</td>\n",
       "    </tr>\n",
       "    <tr>\n",
       "      <th>1002</th>\n",
       "      <td>تاریخ تولدت شما چه روزی است</td>\n",
       "      <td>4</td>\n",
       "      <td>1.259414</td>\n",
       "      <td>1.655942</td>\n",
       "      <td>1.100940</td>\n",
       "      <td>0.0</td>\n",
       "      <td>0.0</td>\n",
       "      <td>0.0</td>\n",
       "      <td>0.0</td>\n",
       "      <td>0.0</td>\n",
       "      <td>...</td>\n",
       "      <td>0.0</td>\n",
       "      <td>0.0</td>\n",
       "      <td>0.0</td>\n",
       "      <td>0.0</td>\n",
       "      <td>0.0</td>\n",
       "      <td>0.0</td>\n",
       "      <td>0.0</td>\n",
       "      <td>0.0</td>\n",
       "      <td>0.0</td>\n",
       "      <td>0.0</td>\n",
       "    </tr>\n",
       "    <tr>\n",
       "      <th>1003</th>\n",
       "      <td>فردا چندم است</td>\n",
       "      <td>4</td>\n",
       "      <td>1.284966</td>\n",
       "      <td>2.040262</td>\n",
       "      <td>0.000000</td>\n",
       "      <td>0.0</td>\n",
       "      <td>0.0</td>\n",
       "      <td>0.0</td>\n",
       "      <td>0.0</td>\n",
       "      <td>0.0</td>\n",
       "      <td>...</td>\n",
       "      <td>0.0</td>\n",
       "      <td>0.0</td>\n",
       "      <td>0.0</td>\n",
       "      <td>0.0</td>\n",
       "      <td>0.0</td>\n",
       "      <td>0.0</td>\n",
       "      <td>0.0</td>\n",
       "      <td>0.0</td>\n",
       "      <td>0.0</td>\n",
       "      <td>0.0</td>\n",
       "    </tr>\n",
       "    <tr>\n",
       "      <th>1004</th>\n",
       "      <td>فردا چه مناسبتی هست</td>\n",
       "      <td>4</td>\n",
       "      <td>1.284966</td>\n",
       "      <td>1.959003</td>\n",
       "      <td>0.000000</td>\n",
       "      <td>0.0</td>\n",
       "      <td>0.0</td>\n",
       "      <td>0.0</td>\n",
       "      <td>0.0</td>\n",
       "      <td>0.0</td>\n",
       "      <td>...</td>\n",
       "      <td>0.0</td>\n",
       "      <td>0.0</td>\n",
       "      <td>0.0</td>\n",
       "      <td>0.0</td>\n",
       "      <td>0.0</td>\n",
       "      <td>0.0</td>\n",
       "      <td>0.0</td>\n",
       "      <td>0.0</td>\n",
       "      <td>0.0</td>\n",
       "      <td>0.0</td>\n",
       "    </tr>\n",
       "    <tr>\n",
       "      <th>1005</th>\n",
       "      <td>امروز چه روزیه</td>\n",
       "      <td>4</td>\n",
       "      <td>5.815125</td>\n",
       "      <td>0.000000</td>\n",
       "      <td>0.000000</td>\n",
       "      <td>0.0</td>\n",
       "      <td>0.0</td>\n",
       "      <td>0.0</td>\n",
       "      <td>0.0</td>\n",
       "      <td>0.0</td>\n",
       "      <td>...</td>\n",
       "      <td>0.0</td>\n",
       "      <td>0.0</td>\n",
       "      <td>0.0</td>\n",
       "      <td>0.0</td>\n",
       "      <td>0.0</td>\n",
       "      <td>0.0</td>\n",
       "      <td>0.0</td>\n",
       "      <td>0.0</td>\n",
       "      <td>0.0</td>\n",
       "      <td>0.0</td>\n",
       "    </tr>\n",
       "  </tbody>\n",
       "</table>\n",
       "<p>5 rows × 29 columns</p>\n",
       "</div>"
      ],
      "text/plain": [
       "                         sentense  class         0         1         2    3  \\\n",
       "1001       روز معلم چه تاریخی است      4  0.728783  2.073530  1.537051  0.0   \n",
       "1002  تاریخ تولدت شما چه روزی است      4  1.259414  1.655942  1.100940  0.0   \n",
       "1003                فردا چندم است      4  1.284966  2.040262  0.000000  0.0   \n",
       "1004          فردا چه مناسبتی هست      4  1.284966  1.959003  0.000000  0.0   \n",
       "1005               امروز چه روزیه      4  5.815125  0.000000  0.000000  0.0   \n",
       "\n",
       "        4    5    6    7  ...   17   18   19   20   21   22   23   24   25  \\\n",
       "1001  0.0  0.0  0.0  0.0  ...  0.0  0.0  0.0  0.0  0.0  0.0  0.0  0.0  0.0   \n",
       "1002  0.0  0.0  0.0  0.0  ...  0.0  0.0  0.0  0.0  0.0  0.0  0.0  0.0  0.0   \n",
       "1003  0.0  0.0  0.0  0.0  ...  0.0  0.0  0.0  0.0  0.0  0.0  0.0  0.0  0.0   \n",
       "1004  0.0  0.0  0.0  0.0  ...  0.0  0.0  0.0  0.0  0.0  0.0  0.0  0.0  0.0   \n",
       "1005  0.0  0.0  0.0  0.0  ...  0.0  0.0  0.0  0.0  0.0  0.0  0.0  0.0  0.0   \n",
       "\n",
       "       26  \n",
       "1001  0.0  \n",
       "1002  0.0  \n",
       "1003  0.0  \n",
       "1004  0.0  \n",
       "1005  0.0  \n",
       "\n",
       "[5 rows x 29 columns]"
      ]
     },
     "execution_count": 64,
     "metadata": {},
     "output_type": "execute_result"
    }
   ],
   "source": [
    "all_data = pd.merge(answers, tf_idf, left_index=True, right_index=True)\n",
    "all_data.tail()"
   ]
  },
  {
   "cell_type": "code",
   "execution_count": 65,
   "metadata": {
    "ExecuteTime": {
     "end_time": "2020-12-24T15:19:57.691323Z",
     "start_time": "2020-12-24T15:19:57.685726Z"
    }
   },
   "outputs": [],
   "source": [
    "pca = PCA(n_components=6)"
   ]
  },
  {
   "cell_type": "code",
   "execution_count": 66,
   "metadata": {
    "ExecuteTime": {
     "end_time": "2020-12-24T15:19:57.955938Z",
     "start_time": "2020-12-24T15:19:57.920013Z"
    }
   },
   "outputs": [],
   "source": [
    "pca_tf_idf = pca.fit_transform(tf_idf)"
   ]
  },
  {
   "cell_type": "code",
   "execution_count": 67,
   "metadata": {
    "ExecuteTime": {
     "end_time": "2020-12-24T15:19:58.149174Z",
     "start_time": "2020-12-24T15:19:58.135679Z"
    }
   },
   "outputs": [],
   "source": [
    "kbest_tf_idf = SelectKBest(chi2, \n",
    "                           k=20).fit_transform(tf_idf, answers['class'])"
   ]
  },
  {
   "cell_type": "markdown",
   "metadata": {},
   "source": [
    "# clustering"
   ]
  },
  {
   "cell_type": "markdown",
   "metadata": {},
   "source": [
    "## kmeans"
   ]
  },
  {
   "cell_type": "code",
   "execution_count": 68,
   "metadata": {
    "ExecuteTime": {
     "end_time": "2020-12-24T15:20:00.434341Z",
     "start_time": "2020-12-24T15:20:00.430386Z"
    }
   },
   "outputs": [],
   "source": [
    "number_of_clusters = 4"
   ]
  },
  {
   "cell_type": "code",
   "execution_count": 69,
   "metadata": {
    "ExecuteTime": {
     "end_time": "2020-12-24T15:20:01.859215Z",
     "start_time": "2020-12-24T15:20:00.655285Z"
    }
   },
   "outputs": [],
   "source": [
    "kmeans = KMeans(n_clusters=number_of_clusters, random_state=0).fit(tf_idf)"
   ]
  },
  {
   "cell_type": "code",
   "execution_count": 70,
   "metadata": {
    "ExecuteTime": {
     "end_time": "2020-12-24T15:20:01.880294Z",
     "start_time": "2020-12-24T15:20:01.861649Z"
    }
   },
   "outputs": [],
   "source": [
    "y_pred = kmeans.labels_"
   ]
  },
  {
   "cell_type": "code",
   "execution_count": 71,
   "metadata": {
    "ExecuteTime": {
     "end_time": "2020-12-24T15:20:01.896725Z",
     "start_time": "2020-12-24T15:20:01.889516Z"
    }
   },
   "outputs": [],
   "source": [
    "def measure (y_pred, y_test):\n",
    "    true = 0 \n",
    "    false = 0\n",
    "    for i, y in enumerate(y_pred) :\n",
    "        if y == y_test[i] :\n",
    "            true += 1 \n",
    "        else :\n",
    "            false +=1\n",
    "    return true / (true + false)"
   ]
  },
  {
   "cell_type": "code",
   "execution_count": 72,
   "metadata": {
    "ExecuteTime": {
     "end_time": "2020-12-24T15:20:01.916859Z",
     "start_time": "2020-12-24T15:20:01.905623Z"
    }
   },
   "outputs": [],
   "source": [
    "all_data['cluster'] = y_pred"
   ]
  },
  {
   "cell_type": "code",
   "execution_count": 73,
   "metadata": {
    "ExecuteTime": {
     "end_time": "2020-12-24T15:20:02.271021Z",
     "start_time": "2020-12-24T15:20:02.263685Z"
    }
   },
   "outputs": [],
   "source": [
    "def percenetages (classes):\n",
    "    one = 0\n",
    "    two = 0\n",
    "    three = 0\n",
    "    four = 0\n",
    "    for cl in classes : \n",
    "        if cl == 1 :\n",
    "            one += 1\n",
    "        elif cl == 2 : \n",
    "            two += 1\n",
    "        elif cl == 3 :\n",
    "            three += 1\n",
    "        elif cl == 4 :\n",
    "            four += 1\n",
    "    print(one, two, three, four)"
   ]
  },
  {
   "cell_type": "code",
   "execution_count": 75,
   "metadata": {
    "ExecuteTime": {
     "end_time": "2020-12-24T15:20:08.014952Z",
     "start_time": "2020-12-24T15:20:07.559608Z"
    }
   },
   "outputs": [
    {
     "name": "stdout",
     "output_type": "stream",
     "text": [
      "0\n",
      "159 157 141 112\n",
      "1\n",
      "76 50 79 89\n",
      "2\n",
      "3 1 4 15\n",
      "3\n",
      "30 20 22 48\n"
     ]
    }
   ],
   "source": [
    "for i in range(number_of_clusters) : \n",
    "    cluster = i\n",
    "    sents = []\n",
    "    classes = []\n",
    "    for index, row in all_data.iterrows() : \n",
    "        if row['cluster'] == cluster : \n",
    "            classes.append(row['class'])\n",
    "            sents.append(row['sentense'])\n",
    "    print(i)\n",
    "    percenetages(classes)"
   ]
  },
  {
   "cell_type": "markdown",
   "metadata": {},
   "source": [
    "# classification"
   ]
  },
  {
   "cell_type": "markdown",
   "metadata": {},
   "source": [
    "## naive"
   ]
  },
  {
   "cell_type": "code",
   "execution_count": 85,
   "metadata": {
    "ExecuteTime": {
     "end_time": "2020-12-24T15:20:32.358844Z",
     "start_time": "2020-12-24T15:20:32.354314Z"
    }
   },
   "outputs": [],
   "source": [
    "gnb = GaussianNB()"
   ]
  },
  {
   "cell_type": "code",
   "execution_count": 86,
   "metadata": {
    "ExecuteTime": {
     "end_time": "2020-12-24T15:20:32.707840Z",
     "start_time": "2020-12-24T15:20:32.696323Z"
    }
   },
   "outputs": [],
   "source": [
    "X_train, X_test, y_train, y_test = train_test_split(pca_tf_idf,  \n",
    "                                                    answers['class'], \n",
    "                                                    test_size=0.2, \n",
    "                                                    random_state=42)"
   ]
  },
  {
   "cell_type": "code",
   "execution_count": 87,
   "metadata": {
    "ExecuteTime": {
     "end_time": "2020-12-24T15:20:32.877354Z",
     "start_time": "2020-12-24T15:20:32.869100Z"
    }
   },
   "outputs": [],
   "source": [
    "y_pred = gnb.fit(X_train, y_train).predict(X_test)"
   ]
  },
  {
   "cell_type": "code",
   "execution_count": 88,
   "metadata": {
    "ExecuteTime": {
     "end_time": "2020-12-24T15:20:33.193227Z",
     "start_time": "2020-12-24T15:20:33.186580Z"
    }
   },
   "outputs": [
    {
     "name": "stdout",
     "output_type": "stream",
     "text": [
      "Number of mislabeled points out of a total 202 points : 119\n"
     ]
    }
   ],
   "source": [
    "print(\"Number of mislabeled points out of a total %d points : %d\"% (X_test.shape[0], (y_test != y_pred).sum()))"
   ]
  },
  {
   "cell_type": "markdown",
   "metadata": {},
   "source": [
    "118 mislabeled with pca n_components = 6"
   ]
  },
  {
   "cell_type": "markdown",
   "metadata": {},
   "source": [
    "## svm"
   ]
  },
  {
   "cell_type": "code",
   "execution_count": 89,
   "metadata": {
    "ExecuteTime": {
     "end_time": "2020-12-24T15:20:34.742076Z",
     "start_time": "2020-12-24T15:20:34.735060Z"
    }
   },
   "outputs": [],
   "source": [
    "X_train, X_test, y_train, y_test = train_test_split(pca_tf_idf,  \n",
    "                                                    answers['class'], \n",
    "                                                    test_size=0.2, \n",
    "                                                    random_state=42)"
   ]
  },
  {
   "cell_type": "code",
   "execution_count": 90,
   "metadata": {
    "ExecuteTime": {
     "end_time": "2020-12-24T15:20:34.913102Z",
     "start_time": "2020-12-24T15:20:34.909420Z"
    }
   },
   "outputs": [],
   "source": [
    "svm = SVC()"
   ]
  },
  {
   "cell_type": "code",
   "execution_count": 91,
   "metadata": {
    "ExecuteTime": {
     "end_time": "2020-12-24T15:20:35.281270Z",
     "start_time": "2020-12-24T15:20:35.232777Z"
    }
   },
   "outputs": [],
   "source": [
    "y_pred = svm.fit(X_train, y_train).predict(X_test)"
   ]
  },
  {
   "cell_type": "code",
   "execution_count": 92,
   "metadata": {
    "ExecuteTime": {
     "end_time": "2020-12-24T15:20:35.457503Z",
     "start_time": "2020-12-24T15:20:35.451072Z"
    }
   },
   "outputs": [
    {
     "name": "stdout",
     "output_type": "stream",
     "text": [
      "Number of mislabeled points out of a total 202 points : 116\n"
     ]
    }
   ],
   "source": [
    "print(\"Number of mislabeled points out of a total %d points : %d\"% (X_test.shape[0], (y_test != y_pred).sum()))"
   ]
  },
  {
   "cell_type": "code",
   "execution_count": 93,
   "metadata": {
    "ExecuteTime": {
     "end_time": "2020-12-24T15:20:35.976676Z",
     "start_time": "2020-12-24T15:20:35.971275Z"
    }
   },
   "outputs": [],
   "source": [
    "tuned_parameters = {'kernel': ['rbf', 'linear'], \n",
    "                     'gamma': [1e-3, 1e-4],\n",
    "                     'C': [1, 10, 100, 1000]}"
   ]
  },
  {
   "cell_type": "code",
   "execution_count": 94,
   "metadata": {
    "ExecuteTime": {
     "end_time": "2020-12-24T15:22:13.755657Z",
     "start_time": "2020-12-24T15:20:36.715151Z"
    }
   },
   "outputs": [
    {
     "data": {
      "text/plain": [
       "GridSearchCV(estimator=SVC(),\n",
       "             param_grid={'C': [1, 10, 100, 1000], 'gamma': [0.001, 0.0001],\n",
       "                         'kernel': ['rbf', 'linear']},\n",
       "             scoring='accuracy')"
      ]
     },
     "execution_count": 94,
     "metadata": {},
     "output_type": "execute_result"
    }
   ],
   "source": [
    "clf = GridSearchCV(SVC(), tuned_parameters, scoring='accuracy')\n",
    "clf.fit(X_train, y_train)"
   ]
  },
  {
   "cell_type": "code",
   "execution_count": 95,
   "metadata": {
    "ExecuteTime": {
     "end_time": "2020-12-24T15:22:13.767891Z",
     "start_time": "2020-12-24T15:22:13.760267Z"
    }
   },
   "outputs": [
    {
     "data": {
      "text/plain": [
       "{'C': 1, 'gamma': 0.001, 'kernel': 'linear'}"
      ]
     },
     "execution_count": 95,
     "metadata": {},
     "output_type": "execute_result"
    }
   ],
   "source": [
    "clf.best_params_"
   ]
  },
  {
   "cell_type": "code",
   "execution_count": 96,
   "metadata": {
    "ExecuteTime": {
     "end_time": "2020-12-24T15:22:13.778579Z",
     "start_time": "2020-12-24T15:22:13.771721Z"
    }
   },
   "outputs": [],
   "source": [
    "y_pred = clf.predict(X_test)"
   ]
  },
  {
   "cell_type": "code",
   "execution_count": 97,
   "metadata": {
    "ExecuteTime": {
     "end_time": "2020-12-24T15:22:13.794254Z",
     "start_time": "2020-12-24T15:22:13.785434Z"
    }
   },
   "outputs": [
    {
     "name": "stdout",
     "output_type": "stream",
     "text": [
      "Number of mislabeled points out of a total 202 points : 130\n"
     ]
    }
   ],
   "source": [
    "print(\"Number of mislabeled points out of a total %d points : %d\"% (X_test.shape[0], (y_test != y_pred).sum()))"
   ]
  },
  {
   "cell_type": "markdown",
   "metadata": {},
   "source": [
    "pca with n_component = 6 115 mislabeled. grid search made it worse :D"
   ]
  },
  {
   "cell_type": "markdown",
   "metadata": {},
   "source": [
    "## decision tree"
   ]
  },
  {
   "cell_type": "code",
   "execution_count": 98,
   "metadata": {
    "ExecuteTime": {
     "end_time": "2020-12-24T15:22:29.641566Z",
     "start_time": "2020-12-24T15:22:29.636055Z"
    }
   },
   "outputs": [],
   "source": [
    "decision_tree = DecisionTreeClassifier(random_state=0)"
   ]
  },
  {
   "cell_type": "code",
   "execution_count": 99,
   "metadata": {
    "ExecuteTime": {
     "end_time": "2020-12-24T15:22:29.915844Z",
     "start_time": "2020-12-24T15:22:29.906544Z"
    }
   },
   "outputs": [],
   "source": [
    "X_train, X_test, y_train, y_test = train_test_split(tf_idf,  \n",
    "                                                    answers['class'], \n",
    "                                                    test_size=0.2, \n",
    "                                                    random_state=42)"
   ]
  },
  {
   "cell_type": "code",
   "execution_count": 100,
   "metadata": {
    "ExecuteTime": {
     "end_time": "2020-12-24T15:22:30.128854Z",
     "start_time": "2020-12-24T15:22:30.112204Z"
    }
   },
   "outputs": [],
   "source": [
    "y_pred = decision_tree.fit(X_train, y_train).predict(X_test)"
   ]
  },
  {
   "cell_type": "code",
   "execution_count": 101,
   "metadata": {
    "ExecuteTime": {
     "end_time": "2020-12-24T15:22:30.370038Z",
     "start_time": "2020-12-24T15:22:30.363879Z"
    }
   },
   "outputs": [
    {
     "name": "stdout",
     "output_type": "stream",
     "text": [
      "Number of mislabeled points out of a total 202 points : 75\n"
     ]
    }
   ],
   "source": [
    "print(\"Number of mislabeled points out of a total %d points : %d\"% (X_test.shape[0], (y_test != y_pred).sum()))"
   ]
  },
  {
   "cell_type": "code",
   "execution_count": 102,
   "metadata": {
    "ExecuteTime": {
     "end_time": "2020-12-24T15:22:30.891715Z",
     "start_time": "2020-12-24T15:22:30.885186Z"
    }
   },
   "outputs": [],
   "source": [
    "criterion = ['gini', 'entropy']\n",
    "max_depth = [2,4,6,8,10,12]"
   ]
  },
  {
   "cell_type": "code",
   "execution_count": 103,
   "metadata": {
    "ExecuteTime": {
     "end_time": "2020-12-24T15:22:31.973068Z",
     "start_time": "2020-12-24T15:22:31.968361Z"
    }
   },
   "outputs": [],
   "source": [
    "parameters = dict(criterion=criterion,\n",
    "                  max_depth=max_depth)"
   ]
  },
  {
   "cell_type": "code",
   "execution_count": 104,
   "metadata": {
    "ExecuteTime": {
     "end_time": "2020-12-24T15:22:32.940521Z",
     "start_time": "2020-12-24T15:22:32.279840Z"
    }
   },
   "outputs": [],
   "source": [
    "clf = DecisionTreeClassifier(random_state=0)\n",
    "decision_tree_GS = GridSearchCV(clf, parameters)\n",
    "y_pred = decision_tree_GS.fit(X_train, y_train).predict(X_test)"
   ]
  },
  {
   "cell_type": "code",
   "execution_count": 105,
   "metadata": {
    "ExecuteTime": {
     "end_time": "2020-12-24T15:22:32.953965Z",
     "start_time": "2020-12-24T15:22:32.944758Z"
    }
   },
   "outputs": [
    {
     "name": "stdout",
     "output_type": "stream",
     "text": [
      "Number of mislabeled points out of a total 202 points : 77\n"
     ]
    }
   ],
   "source": [
    "print(\"Number of mislabeled points out of a total %d points : %d\"% (X_test.shape[0], (y_test != y_pred).sum()))"
   ]
  },
  {
   "cell_type": "markdown",
   "metadata": {},
   "source": [
    "75 mislabeled without pca. without pca (GS) = 77"
   ]
  },
  {
   "cell_type": "markdown",
   "metadata": {},
   "source": [
    "## logostic regression"
   ]
  },
  {
   "cell_type": "code",
   "execution_count": 106,
   "metadata": {
    "ExecuteTime": {
     "end_time": "2020-12-24T15:22:46.404664Z",
     "start_time": "2020-12-24T15:22:46.396588Z"
    }
   },
   "outputs": [],
   "source": [
    "X_train, X_test, y_train, y_test = train_test_split(pca_tf_idf,  \n",
    "                                                    answers['class'], \n",
    "                                                    test_size=0.2, \n",
    "                                                    random_state=42)"
   ]
  },
  {
   "cell_type": "code",
   "execution_count": 107,
   "metadata": {
    "ExecuteTime": {
     "end_time": "2020-12-24T15:22:46.647098Z",
     "start_time": "2020-12-24T15:22:46.617876Z"
    }
   },
   "outputs": [],
   "source": [
    "logistic_regression = LogisticRegression(random_state=0).fit(X_train, y_train)"
   ]
  },
  {
   "cell_type": "code",
   "execution_count": 108,
   "metadata": {
    "ExecuteTime": {
     "end_time": "2020-12-24T15:22:46.701821Z",
     "start_time": "2020-12-24T15:22:46.697237Z"
    }
   },
   "outputs": [],
   "source": [
    "y_pred = logistic_regression.predict(X_test) "
   ]
  },
  {
   "cell_type": "code",
   "execution_count": 109,
   "metadata": {
    "ExecuteTime": {
     "end_time": "2020-12-24T15:22:47.265979Z",
     "start_time": "2020-12-24T15:22:47.259029Z"
    }
   },
   "outputs": [
    {
     "name": "stdout",
     "output_type": "stream",
     "text": [
      "Number of mislabeled points out of a total 202 points : 129\n"
     ]
    }
   ],
   "source": [
    "print(\"Number of mislabeled points out of a total %d points : %d\"% (X_test.shape[0], (y_test != y_pred).sum()))"
   ]
  },
  {
   "cell_type": "code",
   "execution_count": 110,
   "metadata": {
    "ExecuteTime": {
     "end_time": "2020-12-24T15:22:49.297505Z",
     "start_time": "2020-12-24T15:22:49.293128Z"
    }
   },
   "outputs": [],
   "source": [
    "param_grid = {'penalty' : ['l1', 'l2'],\n",
    "             'C' : np.logspace(-4, 4, 20),\n",
    "             'solver' : ['liblinear']}"
   ]
  },
  {
   "cell_type": "code",
   "execution_count": 111,
   "metadata": {
    "ExecuteTime": {
     "end_time": "2020-12-24T15:22:49.558087Z",
     "start_time": "2020-12-24T15:22:49.553674Z"
    }
   },
   "outputs": [],
   "source": [
    "logistic_regression_GS = GridSearchCV(LogisticRegression(), \n",
    "                                      param_grid = param_grid)"
   ]
  },
  {
   "cell_type": "code",
   "execution_count": 112,
   "metadata": {
    "ExecuteTime": {
     "end_time": "2020-12-24T15:22:50.632759Z",
     "start_time": "2020-12-24T15:22:49.767606Z"
    }
   },
   "outputs": [],
   "source": [
    "y_pred = logistic_regression_GS.fit(X_train, y_train).predict(X_test)"
   ]
  },
  {
   "cell_type": "code",
   "execution_count": 113,
   "metadata": {
    "ExecuteTime": {
     "end_time": "2020-12-24T15:22:50.641404Z",
     "start_time": "2020-12-24T15:22:50.635255Z"
    }
   },
   "outputs": [
    {
     "name": "stdout",
     "output_type": "stream",
     "text": [
      "Number of mislabeled points out of a total 202 points : 132\n"
     ]
    }
   ],
   "source": [
    "print(\"Number of mislabeled points out of a total %d points : %d\"% (X_test.shape[0], (y_test != y_pred).sum()))"
   ]
  },
  {
   "cell_type": "markdown",
   "metadata": {},
   "source": [
    "n_components = 6 and the result is 125 mislabeled. "
   ]
  },
  {
   "cell_type": "markdown",
   "metadata": {},
   "source": [
    "# ensemble"
   ]
  },
  {
   "cell_type": "markdown",
   "metadata": {},
   "source": [
    "### random forest"
   ]
  },
  {
   "cell_type": "code",
   "execution_count": 114,
   "metadata": {
    "ExecuteTime": {
     "end_time": "2020-12-24T15:23:00.473266Z",
     "start_time": "2020-12-24T15:23:00.468546Z"
    }
   },
   "outputs": [],
   "source": [
    "random_forest = RandomForestClassifier(n_estimators=13)"
   ]
  },
  {
   "cell_type": "code",
   "execution_count": 115,
   "metadata": {
    "ExecuteTime": {
     "end_time": "2020-12-24T15:23:00.697491Z",
     "start_time": "2020-12-24T15:23:00.688820Z"
    }
   },
   "outputs": [],
   "source": [
    "X_train, X_test, y_train, y_test = train_test_split(tf_idf,  \n",
    "                                                    answers['class'], \n",
    "                                                    test_size=0.2, \n",
    "                                                    random_state=42)"
   ]
  },
  {
   "cell_type": "code",
   "execution_count": 116,
   "metadata": {
    "ExecuteTime": {
     "end_time": "2020-12-24T15:23:00.941160Z",
     "start_time": "2020-12-24T15:23:00.888063Z"
    }
   },
   "outputs": [],
   "source": [
    "y_pred = random_forest.fit(X_train, y_train).predict(X_test)"
   ]
  },
  {
   "cell_type": "code",
   "execution_count": 117,
   "metadata": {
    "ExecuteTime": {
     "end_time": "2020-12-24T15:23:01.082093Z",
     "start_time": "2020-12-24T15:23:01.075764Z"
    }
   },
   "outputs": [
    {
     "name": "stdout",
     "output_type": "stream",
     "text": [
      "Number of mislabeled points out of a total 202 points : 71\n"
     ]
    }
   ],
   "source": [
    "print(\"Number of mislabeled points out of a total %d points : %d\"% (X_test.shape[0], (y_test != y_pred).sum()))"
   ]
  },
  {
   "cell_type": "markdown",
   "metadata": {},
   "source": [
    "### gradient boosting"
   ]
  },
  {
   "cell_type": "code",
   "execution_count": 118,
   "metadata": {
    "ExecuteTime": {
     "end_time": "2020-12-24T15:23:09.429145Z",
     "start_time": "2020-12-24T15:23:09.424090Z"
    }
   },
   "outputs": [],
   "source": [
    "gradient_boosting = GradientBoostingClassifier(random_state=0)"
   ]
  },
  {
   "cell_type": "code",
   "execution_count": 119,
   "metadata": {
    "ExecuteTime": {
     "end_time": "2020-12-24T15:23:09.604799Z",
     "start_time": "2020-12-24T15:23:09.594748Z"
    }
   },
   "outputs": [],
   "source": [
    "X_train, X_test, y_train, y_test = train_test_split(tf_idf,  \n",
    "                                                    answers['class'], \n",
    "                                                    test_size=0.2, \n",
    "                                                    random_state=42)"
   ]
  },
  {
   "cell_type": "code",
   "execution_count": 120,
   "metadata": {
    "ExecuteTime": {
     "end_time": "2020-12-24T15:23:10.857902Z",
     "start_time": "2020-12-24T15:23:09.767504Z"
    }
   },
   "outputs": [],
   "source": [
    "y_pred = gradient_boosting.fit(X_train, y_train).predict(X_test)"
   ]
  },
  {
   "cell_type": "code",
   "execution_count": 121,
   "metadata": {
    "ExecuteTime": {
     "end_time": "2020-12-24T15:23:10.866674Z",
     "start_time": "2020-12-24T15:23:10.860980Z"
    }
   },
   "outputs": [
    {
     "name": "stdout",
     "output_type": "stream",
     "text": [
      "Number of mislabeled points out of a total 202 points : 66\n"
     ]
    }
   ],
   "source": [
    "print(\"Number of mislabeled points out of a total %d points : %d\"% (X_test.shape[0], (y_test != y_pred).sum()))"
   ]
  },
  {
   "cell_type": "markdown",
   "metadata": {},
   "source": [
    "witouht pca 65 mislabeled points "
   ]
  },
  {
   "cell_type": "markdown",
   "metadata": {},
   "source": [
    "# weighted voting"
   ]
  },
  {
   "cell_type": "code",
   "execution_count": 143,
   "metadata": {
    "ExecuteTime": {
     "end_time": "2020-12-24T15:24:04.119494Z",
     "start_time": "2020-12-24T15:24:04.114677Z"
    }
   },
   "outputs": [],
   "source": [
    "classifers_scores = [3, 2, 0, 0]\n",
    "classifiers = [gradient_boosting, random_forest, svm, gnb]"
   ]
  },
  {
   "cell_type": "code",
   "execution_count": 144,
   "metadata": {
    "ExecuteTime": {
     "end_time": "2020-12-24T15:24:04.364874Z",
     "start_time": "2020-12-24T15:24:04.355295Z"
    }
   },
   "outputs": [],
   "source": [
    "X_train, X_test, y_train, y_test = train_test_split(tf_idf,  \n",
    "                                                    answers['class'], \n",
    "                                                    test_size=0.2, \n",
    "                                                    random_state=42)"
   ]
  },
  {
   "cell_type": "code",
   "execution_count": 145,
   "metadata": {
    "ExecuteTime": {
     "end_time": "2020-12-24T15:24:04.540239Z",
     "start_time": "2020-12-24T15:24:04.529786Z"
    }
   },
   "outputs": [],
   "source": [
    "def predict (record) : \n",
    "    # the input is tf_idf\n",
    "    global classifers_scores\n",
    "    record = np.array(record).reshape(1, 27)\n",
    "    scores = {}\n",
    "    for i, classifier in enumerate(classifiers) : \n",
    "        if i >= 2 : \n",
    "            y_pred = classifier.predict(pca.transform(record))\n",
    "        else :\n",
    "            y_pred = classifier.predict(record)\n",
    "            \n",
    "        y_pred = y_pred[0]\n",
    "        if y_pred in scores.keys() : \n",
    "            scores[y_pred] += y_pred * classifers_scores[i]\n",
    "        else :\n",
    "            scores[y_pred] = y_pred * classifers_scores[i]\n",
    "        \n",
    "    return scores"
   ]
  },
  {
   "cell_type": "code",
   "execution_count": 146,
   "metadata": {
    "ExecuteTime": {
     "end_time": "2020-12-24T15:24:04.718036Z",
     "start_time": "2020-12-24T15:24:04.712177Z"
    }
   },
   "outputs": [],
   "source": [
    "y_pred = []\n",
    "def predict_for_all () : \n",
    "    for index, record in X_test.iterrows(): \n",
    "        scores = predict(record)\n",
    "        y_pred.append(max(scores, key=scores.get))\n",
    "        \n",
    "    return np.array(y_pred)"
   ]
  },
  {
   "cell_type": "code",
   "execution_count": 147,
   "metadata": {
    "ExecuteTime": {
     "end_time": "2020-12-24T15:24:06.470506Z",
     "start_time": "2020-12-24T15:24:05.668581Z"
    }
   },
   "outputs": [],
   "source": [
    "y_pred = predict_for_all()"
   ]
  },
  {
   "cell_type": "code",
   "execution_count": 148,
   "metadata": {
    "ExecuteTime": {
     "end_time": "2020-12-24T15:24:06.478667Z",
     "start_time": "2020-12-24T15:24:06.473138Z"
    }
   },
   "outputs": [
    {
     "name": "stdout",
     "output_type": "stream",
     "text": [
      "Number of mislabeled points out of a total 202 points : 66\n"
     ]
    }
   ],
   "source": [
    "print(\"Number of mislabeled points out of a total %d points : %d\"% (X_test.shape[0], (y_test != y_pred).sum()))"
   ]
  },
  {
   "cell_type": "code",
   "execution_count": null,
   "metadata": {},
   "outputs": [],
   "source": []
  },
  {
   "cell_type": "code",
   "execution_count": null,
   "metadata": {},
   "outputs": [],
   "source": []
  }
 ],
 "metadata": {
  "kernelspec": {
   "display_name": "Python 3",
   "language": "python",
   "name": "python3"
  },
  "language_info": {
   "codemirror_mode": {
    "name": "ipython",
    "version": 3
   },
   "file_extension": ".py",
   "mimetype": "text/x-python",
   "name": "python",
   "nbconvert_exporter": "python",
   "pygments_lexer": "ipython3",
   "version": "3.8.5"
  }
 },
 "nbformat": 4,
 "nbformat_minor": 4
}
