{
 "cells": [
  {
   "cell_type": "code",
   "execution_count": 3,
   "metadata": {
    "ExecuteTime": {
     "end_time": "2020-12-24T06:57:39.296291Z",
     "start_time": "2020-12-24T06:57:39.277621Z"
    }
   },
   "outputs": [],
   "source": [
    "%config Completer.use_jedi = False"
   ]
  },
  {
   "cell_type": "code",
   "execution_count": 4,
   "metadata": {
    "ExecuteTime": {
     "end_time": "2020-12-24T06:57:39.302672Z",
     "start_time": "2020-12-24T06:57:39.298876Z"
    },
    "executionInfo": {
     "elapsed": 1952,
     "status": "ok",
     "timestamp": 1608163302982,
     "user": {
      "displayName": "Mohammad Hosein Zarei",
      "photoUrl": "https://lh5.googleusercontent.com/-i499QOl7828/AAAAAAAAAAI/AAAAAAAAAHg/_PDjwus5MiM/s64/photo.jpg",
      "userId": "06417315264126282145"
     },
     "user_tz": -210
    },
    "id": "stPe5XSK12kx"
   },
   "outputs": [],
   "source": [
    "import numpy as np\n",
    "import pandas as pd\n",
    "from hazm import *\n",
    "from collections import Counter\n",
    "from typing import Tuple"
   ]
  },
  {
   "cell_type": "code",
   "execution_count": null,
   "metadata": {},
   "outputs": [],
   "source": []
  },
  {
   "cell_type": "code",
   "execution_count": 5,
   "metadata": {
    "ExecuteTime": {
     "end_time": "2020-12-24T06:57:39.311474Z",
     "start_time": "2020-12-24T06:57:39.306258Z"
    }
   },
   "outputs": [],
   "source": [
    "unused_chars = ['-', '،', '_', '\\n', '//', '/', '\\u200c', 'ـ', '?', '؟']"
   ]
  },
  {
   "cell_type": "code",
   "execution_count": 6,
   "metadata": {
    "ExecuteTime": {
     "end_time": "2020-12-24T06:57:39.327908Z",
     "start_time": "2020-12-24T06:57:39.319297Z"
    }
   },
   "outputs": [],
   "source": [
    "norm = Normalizer()"
   ]
  },
  {
   "cell_type": "code",
   "execution_count": 7,
   "metadata": {
    "ExecuteTime": {
     "end_time": "2020-12-24T06:57:39.334969Z",
     "start_time": "2020-12-24T06:57:39.331791Z"
    }
   },
   "outputs": [],
   "source": [
    "COMB_SCORE = 6\n",
    "WORD_SCORE = 2"
   ]
  },
  {
   "cell_type": "code",
   "execution_count": null,
   "metadata": {},
   "outputs": [],
   "source": []
  },
  {
   "cell_type": "code",
   "execution_count": 8,
   "metadata": {
    "ExecuteTime": {
     "end_time": "2020-12-24T06:57:39.347061Z",
     "start_time": "2020-12-24T06:57:39.341343Z"
    }
   },
   "outputs": [],
   "source": [
    "def get_sw(filename: str) -> list:\n",
    "    with open(filename, encoding=\"utf-8\") as f:\n",
    "        sw = f.read().split('\\n')\n",
    "        return sw"
   ]
  },
  {
   "cell_type": "code",
   "execution_count": 9,
   "metadata": {
    "ExecuteTime": {
     "end_time": "2020-12-24T06:57:39.359175Z",
     "start_time": "2020-12-24T06:57:39.351967Z"
    },
    "pycharm": {
     "name": "#%%\n"
    }
   },
   "outputs": [],
   "source": [
    "def get_list_from(filename: str) -> list:\n",
    "    with open(filename) as f:\n",
    "        temp = f.read().split('=')\n",
    "        ret = []\n",
    "        for t in temp:\n",
    "            ret.append([w for w in t.split('\\n') if w != ''])\n",
    "        return ret"
   ]
  },
  {
   "cell_type": "code",
   "execution_count": 10,
   "metadata": {
    "ExecuteTime": {
     "end_time": "2020-12-24T06:57:39.370596Z",
     "start_time": "2020-12-24T06:57:39.363855Z"
    }
   },
   "outputs": [],
   "source": [
    "def parse_shamsi_events(sw: list) -> Tuple[list, list]:\n",
    "    events = pd.read_csv(\"shamsi_events.csv\", encoding=\"utf-8\")\n",
    "    combs = events[\"event\"].tolist()\n",
    "    words = []\n",
    "    for c in combs:\n",
    "        words += [w for w in norm.normalize(c).split(' ') if w not in sw]\n",
    "    return list(words), combs"
   ]
  },
  {
   "cell_type": "code",
   "execution_count": 11,
   "metadata": {
    "ExecuteTime": {
     "end_time": "2020-12-24T06:57:39.382268Z",
     "start_time": "2020-12-24T06:57:39.374245Z"
    }
   },
   "outputs": [],
   "source": [
    "def initialize() -> Tuple[list, list]:\n",
    "    sw = get_sw(\"stop_words_short.txt\")\n",
    "    used_words = get_list_from(\"used_words.txt\")\n",
    "    used_combs = get_list_from(\"used_combs.txt\")\n",
    "    \n",
    "    w, c = parse_shamsi_events(sw)\n",
    "    used_words[3] += w\n",
    "    used_combs[3] += c\n",
    "    \n",
    "    used_words = [list(set(w)) for w in used_words]\n",
    "    used_combs = [list(set(w)) for w in used_combs]\n",
    "    \n",
    "    return used_words, used_combs"
   ]
  },
  {
   "cell_type": "code",
   "execution_count": null,
   "metadata": {},
   "outputs": [],
   "source": []
  },
  {
   "cell_type": "code",
   "execution_count": 12,
   "metadata": {
    "ExecuteTime": {
     "end_time": "2020-12-24T06:57:40.292800Z",
     "start_time": "2020-12-24T06:57:39.386028Z"
    }
   },
   "outputs": [],
   "source": [
    "words, combs = initialize()"
   ]
  },
  {
   "cell_type": "code",
   "execution_count": null,
   "metadata": {},
   "outputs": [],
   "source": []
  },
  {
   "cell_type": "code",
   "execution_count": 13,
   "metadata": {
    "ExecuteTime": {
     "end_time": "2020-12-24T06:57:40.308613Z",
     "start_time": "2020-12-24T06:57:40.296719Z"
    }
   },
   "outputs": [],
   "source": [
    "def score(sent: str, c: int) -> int:\n",
    "    ret = 0\n",
    "    for comb in combs[c]:\n",
    "        if comb in sent:\n",
    "            ret += COMB_SCORE\n",
    "    for w in words[c]:\n",
    "        if w in sent.split(' '):\n",
    "            ret += WORD_SCORE\n",
    "    return ret"
   ]
  },
  {
   "cell_type": "code",
   "execution_count": 23,
   "metadata": {
    "ExecuteTime": {
     "end_time": "2020-12-24T06:59:51.504606Z",
     "start_time": "2020-12-24T06:59:51.497770Z"
    }
   },
   "outputs": [],
   "source": [
    "def total_score(sent: str) -> dict:\n",
    "    scoring = {}\n",
    "    for i in range(4):\n",
    "        scoring[i] = score(sent, i)\n",
    "    return scoring"
   ]
  },
  {
   "cell_type": "code",
   "execution_count": null,
   "metadata": {},
   "outputs": [],
   "source": []
  }
 ],
 "metadata": {
  "colab": {
   "authorship_tag": "ABX9TyN7LDMpXtO+GAIomp3eq885",
   "collapsed_sections": [],
   "name": "mh1_data.ipynb",
   "provenance": []
  },
  "kernelspec": {
   "display_name": "Python 3",
   "language": "python",
   "name": "python3"
  },
  "language_info": {
   "codemirror_mode": {
    "name": "ipython",
    "version": 3
   },
   "file_extension": ".py",
   "mimetype": "text/x-python",
   "name": "python",
   "nbconvert_exporter": "python",
   "pygments_lexer": "ipython3",
   "version": "3.8.5"
  }
 },
 "nbformat": 4,
 "nbformat_minor": 1
}
